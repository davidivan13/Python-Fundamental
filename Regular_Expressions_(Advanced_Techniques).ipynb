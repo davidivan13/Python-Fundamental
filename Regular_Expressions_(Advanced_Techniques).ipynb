{
  "nbformat": 4,
  "nbformat_minor": 0,
  "metadata": {
    "colab": {
      "provenance": [],
      "include_colab_link": true
    },
    "kernelspec": {
      "name": "python3",
      "display_name": "Python 3"
    },
    "language_info": {
      "name": "python"
    }
  },
  "cells": [
    {
      "cell_type": "markdown",
      "metadata": {
        "id": "view-in-github",
        "colab_type": "text"
      },
      "source": [
        "<a href=\"https://colab.research.google.com/github/davidivan13/Python-Fundamental/blob/main/Regular_Expressions_(Advanced_Techniques).ipynb\" target=\"_parent\"><img src=\"https://colab.research.google.com/assets/colab-badge.svg\" alt=\"Open In Colab\"/></a>"
      ]
    },
    {
      "cell_type": "markdown",
      "source": [
        "# Simple\n"
      ],
      "metadata": {
        "id": "3gtK-BGXQgh4"
      }
    },
    {
      "cell_type": "markdown",
      "source": [
        "## contoh 1"
      ],
      "metadata": {
        "id": "fXVTzM7iQkl3"
      }
    },
    {
      "cell_type": "markdown",
      "source": [
        " Validasi Alamat Email"
      ],
      "metadata": {
        "id": "3JLQ045xQ6h_"
      }
    },
    {
      "cell_type": "code",
      "execution_count": 2,
      "metadata": {
        "id": "-Ikx2mt-MuAf",
        "colab": {
          "base_uri": "https://localhost:8080/"
        },
        "outputId": "504bd7c2-b4fb-4f7c-da0c-146bcaba7191"
      },
      "outputs": [
        {
          "output_type": "stream",
          "name": "stdout",
          "text": [
            "Email valid.\n"
          ]
        }
      ],
      "source": [
        "import re\n",
        "\n",
        "email_pattern = r'^[\\w\\.-]+@[\\w\\.-]+\\.\\w+$'\n",
        "email = \"example@email.com\"\n",
        "\n",
        "if re.match(email_pattern, email):\n",
        "    print(\"Email valid.\")\n",
        "else:\n",
        "    print(\"Email tidak valid.\")\n"
      ]
    },
    {
      "cell_type": "markdown",
      "source": [
        "Penjelasan:\n",
        "\n",
        "Dalam contoh ini, kita menggunakan ekspresi reguler (email_pattern) yang mencocokkan alamat email dengan format yang benar.\n",
        "\n",
        "Ekspresi ini memeriksa karakter sebelum \"@\" dan setelahnya, serta domain.\n",
        "\n",
        "Jika alamat email cocok dengan pola ini, kita menyatakan bahwa email itu valid."
      ],
      "metadata": {
        "id": "sJp8E9vLIEbo"
      }
    },
    {
      "cell_type": "markdown",
      "source": [
        "## contoh 2"
      ],
      "metadata": {
        "id": "-AsgxIWPQtcf"
      }
    },
    {
      "cell_type": "markdown",
      "source": [
        "Ekstraksi Domain dari Alamat Email"
      ],
      "metadata": {
        "id": "24tCW-LyQ3_H"
      }
    },
    {
      "cell_type": "code",
      "source": [
        "import re\n",
        "\n",
        "email = \"example@rocketmail.com\"\n",
        "\n",
        "domain = re.search(r'@([\\w\\.-]+)', email).group(1)\n",
        "\n",
        "print(\"Domain:\", domain)\n"
      ],
      "metadata": {
        "id": "ouPk0znxQu04",
        "colab": {
          "base_uri": "https://localhost:8080/"
        },
        "outputId": "63caf5fd-616f-44ab-f26f-a66db23f7d15"
      },
      "execution_count": 3,
      "outputs": [
        {
          "output_type": "stream",
          "name": "stdout",
          "text": [
            "Domain: rocketmail.com\n"
          ]
        }
      ]
    },
    {
      "cell_type": "markdown",
      "source": [
        "Penjelasan:\n",
        "\n",
        "Dalam contoh ini, kita menggunakan ekspresi reguler untuk mengekstraksi domain dari alamat email.\n",
        "Ekspresi ini mencari tanda \"@\" dan kemudian mengambil karakter setelahnya hingga karakter pemisah seperti \".\".\n",
        "Hasilnya adalah ekstraksi domain dari alamat email."
      ],
      "metadata": {
        "id": "JDa_RjRmIJ3n"
      }
    },
    {
      "cell_type": "markdown",
      "source": [
        "# Intermediate"
      ],
      "metadata": {
        "id": "olHloADAQ7s3"
      }
    },
    {
      "cell_type": "markdown",
      "source": [
        "## contoh 1"
      ],
      "metadata": {
        "id": "GciwF0IQQ__f"
      }
    },
    {
      "cell_type": "markdown",
      "source": [
        "Ekstraksi Semua Tautan dari Halaman HTML"
      ],
      "metadata": {
        "id": "bTxi07c1RC2n"
      }
    },
    {
      "cell_type": "code",
      "source": [
        "import re\n",
        "\n",
        "html = \"\"\"\n",
        "<a href=\"https://example.com\">Link 1</a>\n",
        "<a href=\"https://openai.com\">Link 2</a>\n",
        "<p>Not a link</p>\n",
        "\"\"\"\n",
        "\n",
        "links = re.findall(r'href=[\"\\'](https?://\\S+)[\"\\']', html)\n",
        "\n",
        "for link in links:\n",
        "    print(\"Tautan:\", link)\n"
      ],
      "metadata": {
        "id": "wE-hIOFWQ9hM",
        "colab": {
          "base_uri": "https://localhost:8080/"
        },
        "outputId": "405b4a13-1d49-4cd2-8f0e-061df9565f80"
      },
      "execution_count": 4,
      "outputs": [
        {
          "output_type": "stream",
          "name": "stdout",
          "text": [
            "Tautan: https://example.com\n",
            "Tautan: https://openai.com\n"
          ]
        }
      ]
    },
    {
      "cell_type": "markdown",
      "source": [
        "Penjelasan:\n",
        "\n",
        "Dalam contoh ini, kita menggunakan re.findall untuk mengekstraksi semua tautan dari halaman HTML.\n",
        "\n",
        "Ekspresi reguler ini mencari tautan yang dimulai dengan \"http://\" atau \"https://\" dalam atribut href di elemen HTML."
      ],
      "metadata": {
        "id": "WQ3eERXaL5yD"
      }
    },
    {
      "cell_type": "markdown",
      "source": [
        "## contoh 2"
      ],
      "metadata": {
        "id": "lATq4ukrRLEH"
      }
    },
    {
      "cell_type": "markdown",
      "source": [
        " Mengekstraksi URL dari Teks HTML"
      ],
      "metadata": {
        "id": "nRo-9d81RMpu"
      }
    },
    {
      "cell_type": "code",
      "source": [
        "import re\n",
        "\n",
        "html = \"\"\"\n",
        "Visit our website at <a href=\"https://example.com\">Example</a>\n",
        "Click <a href=\"https://openai.com\">here</a> for more info.\n",
        "\"\"\"\n",
        "\n",
        "links = re.findall(r'<a [^>]*href=[\"\\'](https?://\\S+)[\"\\']', html)\n",
        "\n",
        "for link in links:\n",
        "    print(\"Tautan:\", link)\n"
      ],
      "metadata": {
        "id": "e5PVPf-uRML8",
        "colab": {
          "base_uri": "https://localhost:8080/"
        },
        "outputId": "06a7a500-225d-4885-b664-89f17c303d71"
      },
      "execution_count": 5,
      "outputs": [
        {
          "output_type": "stream",
          "name": "stdout",
          "text": [
            "Tautan: https://example.com\n",
            "Tautan: https://openai.com\n"
          ]
        }
      ]
    },
    {
      "cell_type": "markdown",
      "source": [
        "Penjelasan:\n",
        "\n",
        "Contoh ini menunjukkan cara mengekstraksi URL dari teks HTML yang mungkin memiliki lebih banyak atribut di dalam tag anchor (\\<a>\\).\n",
        "Ekspresi reguler ini mencocokkan tag anchor (\\<a>\\) yang memiliki atribut href dan mengekstraksi URL-nya."
      ],
      "metadata": {
        "id": "8FdrSu4RPj0m"
      }
    },
    {
      "cell_type": "markdown",
      "source": [
        "# Advanced"
      ],
      "metadata": {
        "id": "Jn1LWdwQRV6u"
      }
    },
    {
      "cell_type": "markdown",
      "source": [
        "## contoh 1"
      ],
      "metadata": {
        "id": "JCU8OuesRYWm"
      }
    },
    {
      "cell_type": "markdown",
      "source": [
        "Validasi Nomor Telepon dengan Format yang Berbeda"
      ],
      "metadata": {
        "id": "fn8hFR9_RahX"
      }
    },
    {
      "cell_type": "code",
      "source": [
        "import re\n",
        "\n",
        "phone_numbers = [\"+1 123-456-7890\", \"555-5555\", \"123.456.7890\", \"+44 20 7123 1234\"]\n",
        "\n",
        "phone_pattern = r'^\\+\\d{1,3}\\s?\\d{1,3}[-. ]\\d{1,4}[-. ]\\d{1,4}$'\n",
        "\n",
        "for phone in phone_numbers:\n",
        "    if re.match(phone_pattern, phone):\n",
        "        print(f\"Nomor Telepon '{phone}' valid.\")\n",
        "    else:\n",
        "        print(f\"Nomor Telepon '{phone}' tidak valid.\")\n"
      ],
      "metadata": {
        "colab": {
          "base_uri": "https://localhost:8080/"
        },
        "id": "8Y3ZQkATRX0p",
        "outputId": "dde33c16-a3bc-4ed2-a767-e17ee9a47c0e"
      },
      "execution_count": 6,
      "outputs": [
        {
          "output_type": "stream",
          "name": "stdout",
          "text": [
            "Nomor Telepon '+1 123-456-7890' valid.\n",
            "Nomor Telepon '555-5555' tidak valid.\n",
            "Nomor Telepon '123.456.7890' tidak valid.\n",
            "Nomor Telepon '+44 20 7123 1234' valid.\n"
          ]
        }
      ]
    },
    {
      "cell_type": "markdown",
      "source": [
        "Penjelasan:\n",
        "\n",
        "Dalam contoh ini, kita menggunakan ekspresi reguler (phone_pattern) untuk memvalidasi nomor telepon dengan berbagai format, termasuk kode internasional.\n",
        "\n",
        "Ekspresi ini memeriksa apakah nomor telepon cocok dengan pola yang ditentukan."
      ],
      "metadata": {
        "id": "aVkj7bgKME1H"
      }
    },
    {
      "cell_type": "markdown",
      "source": [
        "## contoh 2"
      ],
      "metadata": {
        "id": "J7dEFUCbRjRv"
      }
    },
    {
      "cell_type": "markdown",
      "source": [
        "Ekstraksi Kode Area dari Nomor Telepon"
      ],
      "metadata": {
        "id": "NETI1IYMRlMX"
      }
    },
    {
      "cell_type": "code",
      "source": [
        "import re\n",
        "\n",
        "phone_number = \"+62 123-456-7890\"\n",
        "\n",
        "area_code = re.search(r'\\+(\\d{1,3})', phone_number).group(1)\n",
        "\n",
        "print(\"Kode Area:\", area_code)\n"
      ],
      "metadata": {
        "id": "8dA9I0wTRksq",
        "colab": {
          "base_uri": "https://localhost:8080/"
        },
        "outputId": "f838247d-c8ce-4d9d-9e91-78075500960c"
      },
      "execution_count": 7,
      "outputs": [
        {
          "output_type": "stream",
          "name": "stdout",
          "text": [
            "Kode Area: 62\n"
          ]
        }
      ]
    },
    {
      "cell_type": "markdown",
      "source": [
        "Penjelasan:\n",
        "\n",
        "Dalam contoh ini, kami menggunakan ekspresi reguler untuk mengekstraksi kode area dari nomor telepon yang mungkin memiliki kode internasional.\n",
        "Ekspresi ini mencari tanda \"+\" diikuti oleh satu hingga tiga digit dan mengambil digit tersebut sebagai kode area."
      ],
      "metadata": {
        "id": "9Spt68OAMOpI"
      }
    }
  ]
}
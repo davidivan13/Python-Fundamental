{
  "nbformat": 4,
  "nbformat_minor": 0,
  "metadata": {
    "colab": {
      "provenance": [],
      "include_colab_link": true
    },
    "kernelspec": {
      "name": "python3",
      "display_name": "Python 3"
    },
    "language_info": {
      "name": "python"
    }
  },
  "cells": [
    {
      "cell_type": "markdown",
      "metadata": {
        "id": "view-in-github",
        "colab_type": "text"
      },
      "source": [
        "<a href=\"https://colab.research.google.com/github/davidivan13/Python-Fundamental/blob/main/Concurrency_and_Parallelism_(Introductory).ipynb\" target=\"_parent\"><img src=\"https://colab.research.google.com/assets/colab-badge.svg\" alt=\"Open In Colab\"/></a>"
      ]
    },
    {
      "cell_type": "markdown",
      "source": [
        "# Simple\n"
      ],
      "metadata": {
        "id": "3gtK-BGXQgh4"
      }
    },
    {
      "cell_type": "markdown",
      "source": [
        "## contoh 1"
      ],
      "metadata": {
        "id": "fXVTzM7iQkl3"
      }
    },
    {
      "cell_type": "markdown",
      "source": [
        " Creating Threads for Parallel Execution"
      ],
      "metadata": {
        "id": "3JLQ045xQ6h_"
      }
    },
    {
      "cell_type": "code",
      "execution_count": 1,
      "metadata": {
        "id": "-Ikx2mt-MuAf",
        "colab": {
          "base_uri": "https://localhost:8080/"
        },
        "outputId": "def6bb00-9b90-49e6-866e-76ba57075778"
      },
      "outputs": [
        {
          "output_type": "stream",
          "name": "stdout",
          "text": [
            "Number: 1\n",
            "Letter: a\n",
            "Number: 2\n",
            "Letter: b\n",
            "Number: 3\n",
            "Letter: c\n",
            "Number: 4\n",
            "Letter: d\n",
            "Number: 5\n",
            "Letter: e\n"
          ]
        }
      ],
      "source": [
        "import threading\n",
        "import time\n",
        "\n",
        "def print_numbers():\n",
        "    for i in range(1, 6):\n",
        "        print(f\"Number: {i}\")\n",
        "        time.sleep(1)\n",
        "\n",
        "def print_letters():\n",
        "    for letter in 'abcde':\n",
        "        print(f\"Letter: {letter}\")\n",
        "        time.sleep(1)\n",
        "\n",
        "thread1 = threading.Thread(target=print_numbers)\n",
        "thread2 = threading.Thread(target=print_letters)\n",
        "\n",
        "thread1.start()\n",
        "thread2.start()\n",
        "\n",
        "thread1.join()\n",
        "thread2.join()\n"
      ]
    },
    {
      "cell_type": "markdown",
      "source": [
        "Penjelasan:\n",
        "\n",
        "Dalam contoh ini, terdapat dua fungsi, print_numbers dan print_letters, masing-masing mensimulasikan sebuah tugas.\n",
        "\n",
        "Kami membuat dua thread, thread1 dan thread2, untuk menjalankan fungsi-fungsi ini secara bersamaan.\n",
        "\n",
        "thread1.start() dan thread2.start() memulai thread-thread tersebut.\n",
        "\n",
        "Kami menggunakan thread1.join() dan thread2.join() untuk menunggu thread selesai.\n",
        "\n",
        "Thread-thread ini menjalankan tugas secara bersamaan, mencetak angka dan huruf, dan melakukan sleep selama 1 detik setelah mencetak setiap karakter.\n",
        "\n",
        "Contoh 2: Keamanan Thread dengan Sumber Daya Bersama"
      ],
      "metadata": {
        "id": "sJp8E9vLIEbo"
      }
    },
    {
      "cell_type": "markdown",
      "source": [
        "## contoh 2"
      ],
      "metadata": {
        "id": "-AsgxIWPQtcf"
      }
    },
    {
      "cell_type": "markdown",
      "source": [
        " Thread Safety with Shared Resources"
      ],
      "metadata": {
        "id": "24tCW-LyQ3_H"
      }
    },
    {
      "cell_type": "code",
      "source": [
        "import threading\n",
        "\n",
        "counter = 0\n",
        "lock = threading.Lock()\n",
        "\n",
        "def increment():\n",
        "    global counter\n",
        "    for _ in range(100000):\n",
        "        with lock:\n",
        "            counter += 1\n",
        "\n",
        "thread1 = threading.Thread(target=increment)\n",
        "thread2 = threading.Thread(target=increment)\n",
        "\n",
        "thread1.start()\n",
        "thread2.start()\n",
        "\n",
        "thread1.join()\n",
        "thread2.join()\n",
        "\n",
        "print(\"Counter:\", counter)\n"
      ],
      "metadata": {
        "id": "ouPk0znxQu04",
        "colab": {
          "base_uri": "https://localhost:8080/"
        },
        "outputId": "1c0a0a85-127a-4c5c-b812-715f6812bd0a"
      },
      "execution_count": 2,
      "outputs": [
        {
          "output_type": "stream",
          "name": "stdout",
          "text": [
            "Counter: 200000\n"
          ]
        }
      ]
    },
    {
      "cell_type": "markdown",
      "source": [
        "Penjelasan:\n",
        "\n",
        "Contoh ini menggambarkan masalah umum dalam pemrograman konkurensi: sumber daya bersama.\n",
        "Kami memiliki variabel global counter yang diinkremen oleh beberapa thread secara bersamaan.\n",
        "Untuk memastikan keamanan thread, kami menggunakan threading.Lock untuk melindungi bagian kritis di mana counter diperbarui.\n",
        "Setiap thread, thread1 dan thread2, menginkremen counter sebanyak 100,000 kali.\n",
        "Setelah kedua thread selesai, kami mencetak nilai terakhir dari counter. Menggunakan lock memastikan bahwa counter diperbarui secara aman."
      ],
      "metadata": {
        "id": "JDa_RjRmIJ3n"
      }
    },
    {
      "cell_type": "markdown",
      "source": [
        "# Intermediate"
      ],
      "metadata": {
        "id": "olHloADAQ7s3"
      }
    },
    {
      "cell_type": "markdown",
      "source": [
        "## contoh 1"
      ],
      "metadata": {
        "id": "GciwF0IQQ__f"
      }
    },
    {
      "cell_type": "markdown",
      "source": [
        " Skenario Produsen-Konsumen dengan Thread"
      ],
      "metadata": {
        "id": "bTxi07c1RC2n"
      }
    },
    {
      "cell_type": "code",
      "source": [
        "import threading\n",
        "import queue\n",
        "\n",
        "def produsen(q):\n",
        "    for i in range(5):\n",
        "        q.put(i)\n",
        "\n",
        "def konsumen(q):\n",
        "    while True:\n",
        "        item = q.get()\n",
        "        if item is None:\n",
        "            break\n",
        "        print(\"Dikonsumsi:\", item)\n",
        "\n",
        "q = queue.Queue()\n",
        "thread_produsen = threading.Thread(target=produsen, args=(q,))\n",
        "thread_konsumen = threading.Thread(target=konsumen, args=(q,))\n",
        "\n",
        "thread_produsen.start()\n",
        "thread_konsumen.start()\n",
        "\n",
        "thread_produsen.join()\n",
        "q.put(None)  # Sinyal kepada konsumen untuk berhenti\n",
        "thread_konsumen.join()\n"
      ],
      "metadata": {
        "id": "wE-hIOFWQ9hM",
        "colab": {
          "base_uri": "https://localhost:8080/"
        },
        "outputId": "48d8260a-142e-4640-a329-712da88711b9"
      },
      "execution_count": 3,
      "outputs": [
        {
          "output_type": "stream",
          "name": "stdout",
          "text": [
            "Dikonsumsi: 0\n",
            "Dikonsumsi: 1\n",
            "Dikonsumsi: 2\n",
            "Dikonsumsi: 3\n",
            "Dikonsumsi: 4\n"
          ]
        }
      ]
    },
    {
      "cell_type": "markdown",
      "source": [
        "Penjelasan:\n",
        "\n",
        "Dalam contoh ini, kami memiliki dua thread yang mewakili produsen dan konsumen.\n",
        "\n",
        "Thread produsen, thread_produsen, menghasilkan dan menambahkan item ke antrian bersama.\n",
        "\n",
        "Thread konsumen, thread_konsumen, mengonsumsi item dari antrian.\n",
        "\n",
        "Thread konsumen terus mengonsumsi item hingga menerima sinyal \"berhenti\" (None) dari produsen.\n",
        "\n",
        "Penggunaan antrian memastikan keselamatan konkurensi dan mengizinkan komunikasi yang aman antara produsen dan konsumen."
      ],
      "metadata": {
        "id": "WQ3eERXaL5yD"
      }
    },
    {
      "cell_type": "markdown",
      "source": [
        "## contoh 2"
      ],
      "metadata": {
        "id": "lATq4ukrRLEH"
      }
    },
    {
      "cell_type": "markdown",
      "source": [
        " Thread Pool untuk Paralelisme Tugas\n",
        "\n"
      ],
      "metadata": {
        "id": "nRo-9d81RMpu"
      }
    },
    {
      "cell_type": "code",
      "source": [
        "from concurrent.futures import ThreadPoolExecutor\n",
        "import time\n",
        "\n",
        "def kuadrat(x):\n",
        "    time.sleep(1)\n",
        "    return x * x\n",
        "\n",
        "data = [1, 2, 3, 4, 5]\n",
        "with ThreadPoolExecutor(max_workers=3) as executor:\n",
        "    hasil = list(executor.map(kuadrat, data))\n",
        "\n",
        "print(\"Hasil:\", hasil)\n"
      ],
      "metadata": {
        "id": "e5PVPf-uRML8",
        "colab": {
          "base_uri": "https://localhost:8080/"
        },
        "outputId": "32f155e8-825e-4e4e-8c98-81a597f1422e"
      },
      "execution_count": 4,
      "outputs": [
        {
          "output_type": "stream",
          "name": "stdout",
          "text": [
            "Hasil: [1, 4, 9, 16, 25]\n"
          ]
        }
      ]
    },
    {
      "cell_type": "markdown",
      "source": [
        "Penjelasan:\n",
        "\n",
        "Pada contoh ini, kami memperkenalkan ThreadPoolExecutor dari modul concurrent.futures, yang menyediakan cara praktis untuk mengelola dan menjalankan tugas secara bersamaan.\n",
        "Kami mendefinisikan fungsi kuadrat yang mensimulasikan tugas dengan melakukan kuadrat angka dan tidur selama 1 detik.\n",
        "Kami membuat daftar data dan menggunakan metode executor.map untuk pengeksekusian secara bersamaan"
      ],
      "metadata": {
        "id": "6wH0c8EkL7qf"
      }
    },
    {
      "cell_type": "markdown",
      "source": [
        "# Advanced"
      ],
      "metadata": {
        "id": "Jn1LWdwQRV6u"
      }
    },
    {
      "cell_type": "markdown",
      "source": [
        "## contoh 1"
      ],
      "metadata": {
        "id": "JCU8OuesRYWm"
      }
    },
    {
      "cell_type": "markdown",
      "source": [
        "Eksekusi Bersamaan dengan ThreadPoolExecutor"
      ],
      "metadata": {
        "id": "fn8hFR9_RahX"
      }
    },
    {
      "cell_type": "code",
      "source": [
        "from concurrent.futures import ThreadPoolExecutor, ProcessPoolExecutor\n",
        "import time\n",
        "\n",
        "def kuadrat(x):\n",
        "    time.sleep(1)\n",
        "    return x * x\n",
        "\n",
        "data = [1, 2, 3, 4, 5]\n",
        "with ThreadPoolExecutor(max_workers=3) as executor:\n",
        "    hasil = list(executor.map(kuadrat, data))\n",
        "\n",
        "print(\"Hasil (Thread):\", hasil)\n"
      ],
      "metadata": {
        "colab": {
          "base_uri": "https://localhost:8080/"
        },
        "id": "8Y3ZQkATRX0p",
        "outputId": "12d72512-f4d5-45e0-b914-06384db1f9d1"
      },
      "execution_count": 5,
      "outputs": [
        {
          "output_type": "stream",
          "name": "stdout",
          "text": [
            "Hasil (Thread): [1, 4, 9, 16, 25]\n"
          ]
        }
      ]
    },
    {
      "cell_type": "markdown",
      "source": [
        "Penjelasan:\n",
        "\n",
        "Pada contoh ini, kami menggunakan ThreadPoolExecutor untuk mengeksekusi fungsi kuadrat secara bersamaan dengan maksimal 3 thread.\n",
        "\n",
        "Fungsi kuadrat mensimulasikan tugas dengan mengkuadratkan angka dan tidur selama 1 detik.\n",
        "\n",
        "Metode executor.map memetakan fungsi ke data dan hasilnya dikumpulkan.\n",
        "\n",
        "Ini menggambarkan eksekusi bersamaan dengan thread."
      ],
      "metadata": {
        "id": "aVkj7bgKME1H"
      }
    },
    {
      "cell_type": "markdown",
      "source": [
        "## contoh 2"
      ],
      "metadata": {
        "id": "J7dEFUCbRjRv"
      }
    },
    {
      "cell_type": "markdown",
      "source": [
        "Eksekusi Bersamaan dengan ProcessPoolExecutor"
      ],
      "metadata": {
        "id": "NETI1IYMRlMX"
      }
    },
    {
      "cell_type": "code",
      "source": [
        "from concurrent.futures import ThreadPoolExecutor, ProcessPoolExecutor\n",
        "import time\n",
        "\n",
        "def kuadrat(x):\n",
        "    time.sleep(1)\n",
        "    return x * x\n",
        "\n",
        "data = [1, 2, 3, 4, 5]\n",
        "with ProcessPoolExecutor(max_workers=3) as executor:\n",
        "    hasil = list(executor.map(kuadrat, data))\n",
        "\n",
        "print(\"Hasil (Proses):\", hasil)\n"
      ],
      "metadata": {
        "id": "8dA9I0wTRksq",
        "colab": {
          "base_uri": "https://localhost:8080/"
        },
        "outputId": "e9e3df37-36d2-4862-b174-2b7a64249016"
      },
      "execution_count": 6,
      "outputs": [
        {
          "output_type": "stream",
          "name": "stdout",
          "text": [
            "Hasil (Proses): [1, 4, 9, 16, 25]\n"
          ]
        }
      ]
    },
    {
      "cell_type": "markdown",
      "source": [
        "Penjelasan:\n",
        "\n",
        "Contoh ini mirip dengan yang sebelumnya, tetapi menunjukkan eksekusi bersamaan menggunakan proses alih-alih thread.\n",
        "Kami menggunakan ProcessPoolExecutor untuk mengeksekusi fungsi kuadrat dengan maksimal 3 proses.\n",
        "Fungsi kuadrat mensimulasikan tugas dengan mengkuadratkan angka dan tidur selama 1 detik.\n",
        "Metode executor.map memetakan fungsi ke data dan hasilnya dikumpulkan.\n",
        "Eksekusi berbasis proses cocok untuk tugas yang membutuhkan banyak sumber daya CPU.\n",
        "\n",
        "Dengan demikian, materi ini mencakup berbagai konsep konkurensi dan paralelisme dalam Python, mulai dari threading yang sederhana hingga eksekusi bersamaan yang lebih canggih dengan thread dan proses. Materi ini membantu peserta memahami prinsip-prinsip dasar dan aplikasi konkurensi dan paralelisme dalam pemrograman Python"
      ],
      "metadata": {
        "id": "9Spt68OAMOpI"
      }
    }
  ]
}
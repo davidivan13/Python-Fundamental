{
  "nbformat": 4,
  "nbformat_minor": 0,
  "metadata": {
    "colab": {
      "provenance": [],
      "private_outputs": true,
      "include_colab_link": true
    },
    "kernelspec": {
      "name": "python3",
      "display_name": "Python 3"
    },
    "language_info": {
      "name": "python"
    }
  },
  "cells": [
    {
      "cell_type": "markdown",
      "metadata": {
        "id": "view-in-github",
        "colab_type": "text"
      },
      "source": [
        "<a href=\"https://colab.research.google.com/github/davidivan13/Python-Fundamental/blob/main/advance_regex.ipynb\" target=\"_parent\"><img src=\"https://colab.research.google.com/assets/colab-badge.svg\" alt=\"Open In Colab\"/></a>"
      ]
    },
    {
      "cell_type": "markdown",
      "source": [
        "# Find all matched substring occurence\n",
        "\n",
        "---\n",
        "\n"
      ],
      "metadata": {
        "id": "8fVZUUTpyXm8"
      }
    },
    {
      "cell_type": "code",
      "source": [
        "while ($string =~ m/regex/g) {\n",
        "  print \"Ditemukan '$&'.  kemunculan selanjutnya pada karakter \" . pos($string)+1 . \"\\n\";\n",
        "}"
      ],
      "metadata": {
        "id": "qBnRxwtOy9ry"
      },
      "execution_count": null,
      "outputs": []
    },
    {
      "cell_type": "markdown",
      "source": [
        "## VS"
      ],
      "metadata": {
        "id": "NKGiL5W3ywzM"
      }
    },
    {
      "cell_type": "code",
      "source": [
        " import re\n",
        "\n",
        " re.findall(pattern, string[, flags])"
      ],
      "metadata": {
        "id": "VgKj_mPtyxp3"
      },
      "execution_count": null,
      "outputs": []
    },
    {
      "cell_type": "markdown",
      "source": [
        "findall mengembalikan semua kecocokan pola yang tidak tumpang tindih dalam string, sebagai daftar string. String dipindai dari kiri ke kanan, dan kecocokan dikembalikan sesuai urutan ditemukannya."
      ],
      "metadata": {
        "id": "IeoXc5mJ0VqT"
      }
    },
    {
      "cell_type": "code",
      "source": [
        " import re\n",
        "\n",
        "t=\"A fat cat doesn't eat oat but a rat eats bats.\"\n",
        "mo = re.findall(\"[a-z]at\", t)\n",
        "print(mo)"
      ],
      "metadata": {
        "id": "ZZJl2Pxt0UvZ"
      },
      "execution_count": null,
      "outputs": []
    },
    {
      "cell_type": "markdown",
      "source": [
        "\n",
        "\n",
        "```\n",
        "# This is formatted as code\n",
        "```\n",
        "\n",
        "Jika satu atau lebih grup ada dalam pola, findall mengembalikan list group. Ini akan menjadi daftar tupel jika polanya memiliki lebih dari satu grup. Kita menunjukkan ini dalam contoh kita berikutnya. Kita memiliki rangkaian panjang dengan berbagai kursus pelatihan Python dan tanggalnya. Dengan panggilan pertama ke findall, kita tidak menggunakan pengelompokan apa pun dan sebagai hasilnya menerima string lengkap. Dalam panggilan berikutnya, kita menggunakan pengelompokan dan findall mengembalikan daftar 2-tupel, masing-masing memiliki nama kursus sebagai komponen pertama dan tanggal sebagai komponen kedua:"
      ],
      "metadata": {
        "id": "ZM59Vsef1P8R"
      }
    },
    {
      "cell_type": "code",
      "source": [
        "import re\n",
        "courses = '''Python Training Course for Beginners: 15/Aug/2011 - 19/Aug/2011; Python Training Course Intermediate: 12/Dec/2011 - 16/Dec/2011;Python Text Processing Course:31/Oct/2011 - 4/Nov/2011'''\n",
        "items = re.findall(\"[^:]*:[^;]*;?\", courses)\n",
        "print (items)"
      ],
      "metadata": {
        "id": "Cr0t3EID0aXL"
      },
      "execution_count": null,
      "outputs": []
    },
    {
      "cell_type": "code",
      "source": [
        "items = re.findall(\"([^:]*):([^;]*;?)\", courses)\n",
        "items"
      ],
      "metadata": {
        "id": "KY8wSsAD1qRr"
      },
      "execution_count": null,
      "outputs": []
    },
    {
      "cell_type": "code",
      "source": [
        "import re\n",
        "courses = '''Python Training Course for Beginners: 15/Aug/2011 - 19/Aug/2011; Python Training Course Intermediate: 12/Dec/2011 - 16/Dec/2011;Python Text Processing Course:31/Oct/2011 - 4/Nov/2011'''\n",
        "items = re.findall(\"[^:]*:[^;]*;?\", courses)\n",
        "items"
      ],
      "metadata": {
        "id": "MT_zYtcTSYTl"
      },
      "execution_count": null,
      "outputs": []
    },
    {
      "cell_type": "markdown",
      "source": [
        "# Alternation (Substitusi)"
      ],
      "metadata": {
        "id": "pWHUAacL25_c"
      }
    },
    {
      "cell_type": "code",
      "source": [
        "import re\n",
        "str = \"Course location is London or Strasbourg!\"\n",
        "mo = re.search(r\"location.*(London|Jakarta|Bandung|Strasbourg)\",str)\n",
        "if mo: print(mo.group())"
      ],
      "metadata": {
        "id": "f7KvD94z2CyN"
      },
      "execution_count": null,
      "outputs": []
    },
    {
      "cell_type": "markdown",
      "source": [
        "Jika Anda menganggap contoh sebelumnya terlalu artifisial, ini satu lagi. Mari kita asumsikan, Anda ingin memfilter email Anda. Anda ingin menemukan semua korespondensi (percakapan) antara Anda dan Tutor MySkill. Ekspresi reguler berikut berguna untuk tujuan ini:"
      ],
      "metadata": {
        "id": "YTm3rUZp36CG"
      }
    },
    {
      "cell_type": "code",
      "source": [
        "from re import IGNORECASE\n",
        "import re\n",
        "z = \"i live in Bekasi\"\n",
        "y = re.search(\"live.*(Jakarta|Depok|Bekasi|Bogor)\", z, flags= re.IGNORECASE)\n",
        "if y: print(y.group())"
      ],
      "metadata": {
        "id": "vavT6b3AsXLr"
      },
      "execution_count": null,
      "outputs": []
    },
    {
      "cell_type": "markdown",
      "source": [
        "r\"(^To:|^From:) (Tutor|My Skill)\""
      ],
      "metadata": {
        "id": "PFKEvbQO4Dj4"
      }
    },
    {
      "cell_type": "markdown",
      "source": [
        "\n",
        "\n",
        "```\n",
        "# This is formatted as code\n",
        "```\n",
        "\n",
        "Ekspresi ini cocok dengan semua baris yang dimulai dengan 'To:' atau 'From:', diikuti dengan spasi dan kemudian dengan nama depan 'My' atau nama blakang.'My Skill'."
      ],
      "metadata": {
        "id": "Iznf2WV14LlV"
      }
    },
    {
      "cell_type": "markdown",
      "source": [
        "# Splitting String dengan dan tanpa RegEx"
      ],
      "metadata": {
        "id": "Ek6XSKnU4c7H"
      }
    },
    {
      "cell_type": "markdown",
      "source": [
        "## Split tanpa Regex"
      ],
      "metadata": {
        "id": "A9tSD1aW7njP"
      }
    },
    {
      "cell_type": "markdown",
      "source": [
        "str.split([sep[, maxsplit]])"
      ],
      "metadata": {
        "id": "0q3ux3Lm53ph"
      }
    },
    {
      "cell_type": "code",
      "source": [
        "law_courses = \"Let reverence for the laws be breathed by every American mother to the lisping babe that prattles on her lap. Let it be taught in schools, in seminaries, and in colleges. Let it be written in primers, spelling books, and in almanacs. Let it be preached from the pulpit, proclaimed in legislative halls, and enforced in the courts of justice. And, in short, let it become the political religion of the nation.\"\n",
        "law_courses.split()\n"
      ],
      "metadata": {
        "id": "J3mniLBc3pm9"
      },
      "execution_count": null,
      "outputs": []
    },
    {
      "cell_type": "markdown",
      "source": [
        "**Sekarang** kita melihat string, yang dapat berasal dari file calc Excel atau OpenOffice. Kita telah melihat pada contoh sebelumnya bahwa split mengambil spasi putih sebagai pemisah default. Kita ingin membagi string dalam contoh kecil berikut menggunakan titik koma sebagai pemisah. Satu-satunya hal yang harus kita lakukan adalah menggunakan \";\" sebagai argumen split():"
      ],
      "metadata": {
        "id": "F-hBMyLx62Rs"
      }
    },
    {
      "cell_type": "code",
      "source": [
        "line = \"Faras;Tata;Fauziah;Pearl\"\n",
        "line.split(\";\")"
      ],
      "metadata": {
        "id": "cTGzaaXa6pdR"
      },
      "execution_count": null,
      "outputs": []
    },
    {
      "cell_type": "markdown",
      "source": [
        "# Metode split() memiliki parameter opsional lain: maxsplit. Jika maxsplit diberikan, paling banyak maxsplit split dilakukan. Ini berarti daftar yang dihasilkan akan memiliki paling banyak elemen \"maxsplit + 1\". Kita akan mengilustrasikan mode operasi maxsplit dalam contoh berikut:"
      ],
      "metadata": {
        "id": "_kAaOMZh7FQK"
      }
    },
    {
      "cell_type": "code",
      "source": [
        "mammon = \"The god of the world's leading religion. The chief temple is in the holy city of New York.\"\n",
        "mammon.split(\" \",3)"
      ],
      "metadata": {
        "id": "dCwNE-KL7ExK"
      },
      "execution_count": null,
      "outputs": []
    },
    {
      "cell_type": "markdown",
      "source": [
        "Kita menggunakan Kosong sebagai string pembatas pada contoh sebelumnya, yang dapat menjadi masalah: Jika beberapa kosong atau spasi terhubung, split() akan membagi string setelah setiap kosong, sehingga kita akan mendapatkan string dan string kosong hanya dengan tab di dalam ('\\t') dalam daftar hasil kita:"
      ],
      "metadata": {
        "id": "HrUsftT37Po_"
      }
    },
    {
      "cell_type": "code",
      "source": [
        "mammon = \"The god  \\t of the world's leading religion. The chief temple is in the holy city of New York.\"\n",
        "mammon.split(\" \",5)"
      ],
      "metadata": {
        "id": "m_0dr7sX7AYv"
      },
      "execution_count": null,
      "outputs": []
    },
    {
      "cell_type": "markdown",
      "source": [
        "Kita dapat mencegah pemisahan string kosong dengan menggunakan None sebagai argumen pertama. Sekarang split akan menggunakan perilaku default, yaitu setiap substring yang terdiri dari karakter spasi putih yang terhubung akan diambil sebagai satu pemisah:"
      ],
      "metadata": {
        "id": "DcyyQgHo7eU3"
      }
    },
    {
      "cell_type": "code",
      "source": [
        "mammon.split(None,5)"
      ],
      "metadata": {
        "id": "ht7PpzCw7VX2"
      },
      "execution_count": null,
      "outputs": []
    },
    {
      "cell_type": "markdown",
      "source": [
        "## Split dengan Regex"
      ],
      "metadata": {
        "id": "xOSV9xfY7qSC"
      }
    },
    {
      "cell_type": "markdown",
      "source": [
        "* *italicized text*Metode* string split() adalah alat yang tepat dalam banyak kasus, tetapi apa, jika Anda mau, mis. untuk mendapatkan kata-kata kosong dari sebuah teks, yaitu tanpa karakter khusus dan spasi. Jika kita menginginkan ini, kita harus menggunakan fungsi split dari modul re. Kita mengilustrasikan metode ini dengan teks singkat dari awal Metamorphoses oleh Ovid:"
      ],
      "metadata": {
        "id": "WCSm25KI7wW2"
      }
    },
    {
      "cell_type": "code",
      "source": [
        "import re\n",
        "metamorphoses = \"OF bodies chang'd to various forms, I sing: Ye Gods, from whom these miracles did spring, Inspire my numbers with coelestial heat;\"\n",
        "re.split(\"\\W+\",metamorphoses)"
      ],
      "metadata": {
        "id": "hjFgrqJs7jwd"
      },
      "execution_count": null,
      "outputs": []
    },
    {
      "cell_type": "markdown",
      "source": [
        "Contoh berikut adalah kasus yang bagus, di mana ekspresi reguler benar-benar lebih unggul daripada pemisahan string. Mari kita asumsikan bahwa kita memiliki baris data dengan nama keluarga, nama depan, dan nama profesi. Kita ingin menghapus baris data dari deskripsi teks yang berlebihan dan berlebihan, yaitu \"nama keluarga: \", \"nama depan: \" dan seterusnya, sehingga kita hanya memiliki nama keluarga di kolom pertama, nama pertama di kolom kedua dan profesi di kolom ketiga:"
      ],
      "metadata": {
        "id": "0kGuHmWY9G6z"
      }
    },
    {
      "cell_type": "code",
      "source": [
        "import re\n",
        "lines = [\"surname: Nelson, prename: Mandela, profession: president\", \"surname: Merkel, prename: Skylar, profession: chancellor\"]\n",
        "for line in lines:\n",
        "    print(re.split(\",* *\\w*: \", line))"
      ],
      "metadata": {
        "id": "31f-Enjb8rAm"
      },
      "execution_count": null,
      "outputs": []
    },
    {
      "cell_type": "markdown",
      "source": [
        "Kita dapat dengan mudah meningkatkan skrip dengan menggunakan operator slice, sehingga kita tidak memiliki string kosong sebagai elemen pertama dari daftar hasil kita:"
      ],
      "metadata": {
        "id": "_FQ49jST9boR"
      }
    },
    {
      "cell_type": "code",
      "source": [
        "import re\n",
        "lines = [\"surname: Nelson, prename: Mandela, profession: president\", \"surname: Merkel, prename: Skylar, profession: chancellor\"]\n",
        "for line in lines:\n",
        "    print(re.split(\" *\\w*, \", line)[1:])\n"
      ],
      "metadata": {
        "id": "g92aKf_f9REG"
      },
      "execution_count": null,
      "outputs": []
    },
    {
      "cell_type": "markdown",
      "source": [
        "# Search dan Replace dengan sub()\n",
        "\n",
        "---\n",
        "\n"
      ],
      "metadata": {
        "id": "QFAd8ehV9xMI"
      }
    },
    {
      "cell_type": "markdown",
      "source": [
        "re.sub(regex, replacement, subject)"
      ],
      "metadata": {
        "id": "1BHqwqtY-OJQ"
      }
    },
    {
      "cell_type": "code",
      "source": [
        "import re\n",
        "str = \"yes I said yes I will Yes.\"\n",
        "res = re.sub(\"[Yy]es\",\"NO\", str)\n",
        "print(res)"
      ],
      "metadata": {
        "id": "x3kCqU7T9jQr"
      },
      "execution_count": null,
      "outputs": []
    },
    {
      "cell_type": "code",
      "source": [],
      "metadata": {
        "id": "zZ1g5iEK-afH"
      },
      "execution_count": null,
      "outputs": []
    }
  ]
}
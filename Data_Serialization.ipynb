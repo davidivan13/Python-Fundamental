{
  "nbformat": 4,
  "nbformat_minor": 0,
  "metadata": {
    "colab": {
      "provenance": [],
      "include_colab_link": true
    },
    "kernelspec": {
      "name": "python3",
      "display_name": "Python 3"
    },
    "language_info": {
      "name": "python"
    }
  },
  "cells": [
    {
      "cell_type": "markdown",
      "metadata": {
        "id": "view-in-github",
        "colab_type": "text"
      },
      "source": [
        "<a href=\"https://colab.research.google.com/github/davidivan13/Python-Fundamental/blob/main/Data_Serialization.ipynb\" target=\"_parent\"><img src=\"https://colab.research.google.com/assets/colab-badge.svg\" alt=\"Open In Colab\"/></a>"
      ]
    },
    {
      "cell_type": "markdown",
      "source": [
        "# Simple\n"
      ],
      "metadata": {
        "id": "3gtK-BGXQgh4"
      }
    },
    {
      "cell_type": "markdown",
      "source": [
        "## contoh 1"
      ],
      "metadata": {
        "id": "fXVTzM7iQkl3"
      }
    },
    {
      "cell_type": "markdown",
      "source": [
        "Serialisasi dan Deserialisasi Kamus"
      ],
      "metadata": {
        "id": "3JLQ045xQ6h_"
      }
    },
    {
      "cell_type": "code",
      "execution_count": 1,
      "metadata": {
        "id": "-Ikx2mt-MuAf",
        "colab": {
          "base_uri": "https://localhost:8080/"
        },
        "outputId": "0424aabf-bb81-4fb5-ab3d-740f202c1087"
      },
      "outputs": [
        {
          "output_type": "stream",
          "name": "stdout",
          "text": [
            "{'nama': 'Alice', 'usia': 30, 'kota': 'Jakarta'}\n"
          ]
        }
      ],
      "source": [
        "import json\n",
        "\n",
        "data = {'nama': 'Alice', 'usia': 30, 'kota': 'Jakarta'}\n",
        "\n",
        "# Serialisasi ke JSON\n",
        "json_data = json.dumps(data, indent=4)\n",
        "\n",
        "# Menyimpan ke file JSON\n",
        "with open('data.json', 'w') as file:\n",
        "    file.write(json_data)\n",
        "\n",
        "# Deserialisasi dari JSON\n",
        "with open('data.json', 'r') as file:\n",
        "    loaded_data = json.load(file)\n",
        "\n",
        "print(loaded_data)\n"
      ]
    },
    {
      "cell_type": "markdown",
      "source": [
        "Kami mengambil kamus data, mengonversinya menjadi JSON, dan menyimpannya dalam file JSON. Kemudian, kami membaca file JSON dan mendeserialisasikan datanya kembali ke dalam kamus."
      ],
      "metadata": {
        "id": "sJp8E9vLIEbo"
      }
    },
    {
      "cell_type": "markdown",
      "source": [
        "## contoh 2"
      ],
      "metadata": {
        "id": "BmoboK5IYtas"
      }
    },
    {
      "cell_type": "markdown",
      "source": [
        " Serialisasi Kamus yang Berisi Daftar python\n"
      ],
      "metadata": {
        "id": "91hM4kn5gLw6"
      }
    },
    {
      "cell_type": "code",
      "source": [
        "import json\n",
        "\n",
        "data = {'nama': 'Alice', 'hobi': ['berenang', 'membaca', 'berkebun']}\n",
        "\n",
        "# Serialisasi ke JSON\n",
        "json_data = json.dumps(data, indent=4)\n",
        "\n",
        "# Menyimpan ke file JSON\n",
        "with open('data.json', 'w') as file:\n",
        "    file.write(json_data)\n",
        "\n",
        "# Deserialisasi dari JSON\n",
        "with open('data.json', 'r') as file:\n",
        "    loaded_data = json.load(file)\n",
        "\n",
        "print(loaded_data)\n"
      ],
      "metadata": {
        "id": "yLLfsDdyYvc0",
        "colab": {
          "base_uri": "https://localhost:8080/"
        },
        "outputId": "68fb586c-1580-46e1-af34-7ff008fff60c"
      },
      "execution_count": 2,
      "outputs": [
        {
          "output_type": "stream",
          "name": "stdout",
          "text": [
            "{'nama': 'Alice', 'hobi': ['berenang', 'membaca', 'berkebun']}\n"
          ]
        }
      ]
    },
    {
      "cell_type": "markdown",
      "source": [
        "Kami mengambil kamus data yang berisi daftar dan mengonversinya menjadi JSON. Kemudian, kami menyimpannya dalam file JSON dan kemudian mendeserialisasikannya kembali."
      ],
      "metadata": {
        "id": "M8JDbT-3gX0j"
      }
    },
    {
      "cell_type": "markdown",
      "source": [
        "# Intermediate"
      ],
      "metadata": {
        "id": "olHloADAQ7s3"
      }
    },
    {
      "cell_type": "markdown",
      "source": [
        "## contoh 1"
      ],
      "metadata": {
        "id": "GciwF0IQQ__f"
      }
    },
    {
      "cell_type": "markdown",
      "source": [
        "Serialisasi dan Deserialisasi Objek Kustom"
      ],
      "metadata": {
        "id": "bTxi07c1RC2n"
      }
    },
    {
      "cell_type": "code",
      "source": [
        "import json\n",
        "\n",
        "class Person:\n",
        "    def __init__(self, nama, usia):\n",
        "        self.nama = nama\n",
        "        self.usia = usia\n",
        "\n",
        "people = [Person('Alice', 30), Person('Bob', 25)]\n",
        "\n",
        "# Serialisasi ke JSON\n",
        "json_data = json.dumps([person.__dict__ for person in people], indent=4)\n",
        "\n",
        "# Deserialisasi dari JSON\n",
        "loaded_people = [Person(item['nama'], item['usia']) for item in json.loads(json_data)]\n",
        "\n",
        "for person in loaded_people:\n",
        "    print(person.__dict__)\n"
      ],
      "metadata": {
        "id": "wE-hIOFWQ9hM",
        "colab": {
          "base_uri": "https://localhost:8080/"
        },
        "outputId": "96d1002f-a992-4ab4-a68b-6f91c97c79d8"
      },
      "execution_count": 3,
      "outputs": [
        {
          "output_type": "stream",
          "name": "stdout",
          "text": [
            "{'nama': 'Alice', 'usia': 30}\n",
            "{'nama': 'Bob', 'usia': 25}\n"
          ]
        }
      ]
    },
    {
      "cell_type": "markdown",
      "source": [
        "Kami membuat objek-objek kustom dari kelas Person, kemudian mengonversi daftar objek ini menjadi format JSON. Kami kemudian mendeserialisasikannya kembali dan mencetak hasilnya."
      ],
      "metadata": {
        "id": "0lDMlVrkXhMV"
      }
    },
    {
      "cell_type": "markdown",
      "source": [
        "## contoh 2"
      ],
      "metadata": {
        "id": "y6yo2xt8lhw5"
      }
    },
    {
      "cell_type": "markdown",
      "source": [
        "Serialisasi dan Deserialisasi Data yang Kompleks"
      ],
      "metadata": {
        "id": "tw2Eq8wUhS9q"
      }
    },
    {
      "cell_type": "code",
      "source": [
        "import json\n",
        "\n",
        "data = {\n",
        "    'nama': 'Alice',\n",
        "    'nilai': 95,\n",
        "    'kelas': {\n",
        "        'nama_kelas': 'XII IPA 1',\n",
        "        'siswa': ['Bob', 'Charlie', 'Dave']\n",
        "    }\n",
        "}\n",
        "\n",
        "# Serialisasi ke JSON\n",
        "json_data = json.dumps(data, indent=4)\n",
        "\n",
        "# Deserialisasi dari JSON\n",
        "loaded_data = json.loads(json_data)\n",
        "\n",
        "print(loaded_data)\n"
      ],
      "metadata": {
        "colab": {
          "base_uri": "https://localhost:8080/"
        },
        "id": "5EyIVyLqhSfq",
        "outputId": "b29d6ec8-7de6-4ce4-e768-74bc557194ea"
      },
      "execution_count": 4,
      "outputs": [
        {
          "output_type": "stream",
          "name": "stdout",
          "text": [
            "{'nama': 'Alice', 'nilai': 95, 'kelas': {'nama_kelas': 'XII IPA 1', 'siswa': ['Bob', 'Charlie', 'Dave']}}\n"
          ]
        }
      ]
    },
    {
      "cell_type": "markdown",
      "source": [
        "Kami mengambil data yang berisi objek-objek bersarang (kelas dalam kamus) dan mengonversinya menjadi format JSON. Kemudian, kami mendeserialisasikannya kembali dan mencetak hasilnya."
      ],
      "metadata": {
        "id": "W9t0NW4KheqD"
      }
    },
    {
      "cell_type": "markdown",
      "source": [
        "# Advanced"
      ],
      "metadata": {
        "id": "Jn1LWdwQRV6u"
      }
    },
    {
      "cell_type": "markdown",
      "source": [
        "## contoh 1"
      ],
      "metadata": {
        "id": "JCU8OuesRYWm"
      }
    },
    {
      "cell_type": "markdown",
      "source": [
        "Program Serialisasi ke Berbagai Format"
      ],
      "metadata": {
        "id": "fn8hFR9_RahX"
      }
    },
    {
      "cell_type": "code",
      "source": [
        "import json\n",
        "import xml.etree.ElementTree as ET\n",
        "import csv\n",
        "\n",
        "def serialize_data(data, format):\n",
        "    if format == 'json':\n",
        "        return json.dumps(data, indent=4)\n",
        "    elif format == 'xml':\n",
        "        root = ET.Element('data')\n",
        "        for key, value in data.items():\n",
        "            element = ET.SubElement(root, key)\n",
        "            element.text = str(value)\n",
        "        return ET.tostring(root).decode('utf-8')\n",
        "    elif format == 'csv':\n",
        "        lines = [','.join([str(key), str(value)]) for key, value in data.items()]\n",
        "        return '\\n'.join(lines)\n",
        "\n",
        "def deserialize_data(data, format):\n",
        "    if format == 'json':\n",
        "        return json.loads(data)\n",
        "    elif format == 'xml':\n",
        "        root = ET.fromstring(data)\n",
        "        return {elem.tag: elem.text for elem in root}\n",
        "    elif format == 'csv':\n",
        "        lines = data.split('\\n')\n",
        "        items = [line.split(',') for line in lines]\n",
        "        return {item[0]: item[1] for item in items if len(item) == 2}\n",
        "\n",
        "# Pengguna memilih format\n",
        "pilihan_format = input(\"Pilih format (json/xml/csv): \")\n",
        "\n",
        "data = {'nama': 'Alice', 'usia': 30, 'kota': 'Jakarta'}\n",
        "\n",
        "# Serialisasi\n",
        "serialized_data = serialize_data(data, pilihan_format)\n",
        "print(\"Data Serialisasi:\")\n",
        "print(serialized_data)\n",
        "\n",
        "# Deserialisasi\n",
        "deserialized_data = deserialize_data(serialized_data, pilihan_format)\n",
        "print(\"Data Deserialisasi:\")\n",
        "print(deserialized_data)\n"
      ],
      "metadata": {
        "id": "8Y3ZQkATRX0p",
        "colab": {
          "base_uri": "https://localhost:8080/"
        },
        "outputId": "de98e605-8f0b-440a-fded-d84b5d8e114b"
      },
      "execution_count": 5,
      "outputs": [
        {
          "output_type": "stream",
          "name": "stdout",
          "text": [
            "Pilih format (json/xml/csv): csv\n",
            "Data Serialisasi:\n",
            "nama,Alice\n",
            "usia,30\n",
            "kota,Jakarta\n",
            "Data Deserialisasi:\n",
            "{'nama': 'Alice', 'usia': '30', 'kota': 'Jakarta'}\n"
          ]
        }
      ]
    },
    {
      "cell_type": "markdown",
      "source": [
        "Program ini memungkinkan pengguna untuk memilih format (JSON, XML, CSV) untuk serialisasi dan deserialisasi data. Data kemudian diserialisasi kembali dan dicetak."
      ],
      "metadata": {
        "id": "oMw7UYSbhssD"
      }
    },
    {
      "cell_type": "markdown",
      "source": [
        "## contoh 2"
      ],
      "metadata": {
        "id": "ETWN5L0sZtqU"
      }
    },
    {
      "cell_type": "markdown",
      "source": [
        "Program Serialisasi ke Format yang Berbeda"
      ],
      "metadata": {
        "id": "wwJrJqdOhwXy"
      }
    },
    {
      "cell_type": "code",
      "source": [
        "import json\n",
        "import xml.etree.ElementTree as ET\n",
        "import csv\n",
        "\n",
        "def serialize_to_json(data):\n",
        "    return json.dumps(data, indent=4)\n",
        "\n",
        "def deserialize_from_json(data):\n",
        "    return json.loads(data)\n",
        "\n",
        "def serialize_to_xml(data):\n",
        "    root = ET.Element('data')\n",
        "    for key, value in data.items():\n",
        "        element = ET.SubElement(root, key)\n",
        "        element.text = str(value)\n",
        "    return ET.tostring(root).decode('utf-8')\n",
        "\n",
        "def deserialize_from_xml(data):\n",
        "    root = ET.fromstring(data)\n",
        "    return {elem.tag: elem.text for elem in root}\n",
        "\n",
        "def serialize_to_csv(data):\n",
        "    lines = [','.join([str(key), str(value)]) for key, value in data.items()]\n",
        "    return '\\n'.join(lines)\n",
        "\n",
        "def deserialize_from_csv(data):\n",
        "    lines = data.split('\\n')\n",
        "    items = [line.split(',') for line in lines]\n",
        "    return {item[0]: item[1] for item in items if len(item) == 2}\n",
        "\n",
        "# Pengguna memilih operasi\n",
        "print(\"Pilih operasi:\")\n",
        "print(\"1. Serialisasi ke JSON\")\n",
        "print(\"2. Deserialisasi dari JSON\")\n",
        "print(\"3. Serialisasi ke XML\")\n",
        "print(\"4. Deserialisasi dari XML\")\n",
        "print(\"5. Serialisasi ke CSV\")\n",
        "print(\"6. Deserialisasi dari CSV\")\n",
        "operasi = input(\"Pilih operasi (1/2/3/4/5/6): \")\n",
        "\n",
        "data = {'nama': 'Alice', 'usia': 30, 'kota': 'Jakarta'}\n",
        "\n",
        "if operasi == '1':\n",
        "    result = serialize_to_json(data)\n",
        "elif operasi == '2':\n",
        "    result = deserialize_from_json(data)\n",
        "elif operasi == '3':\n",
        "    result = serialize_to_xml(data)\n",
        "elif operasi == '4':\n",
        "    result = deserialize_from_xml(data)\n",
        "elif operasi == '5':\n",
        "    result = serialize_to_csv(data)\n",
        "elif operasi == '6':\n",
        "    result = deserialize_from_csv(data)\n",
        "\n",
        "print(result)\n"
      ],
      "metadata": {
        "id": "5YsewVTPdpJR",
        "colab": {
          "base_uri": "https://localhost:8080/"
        },
        "outputId": "9b3e616a-85a9-49d5-e324-a6ac6d724061"
      },
      "execution_count": 7,
      "outputs": [
        {
          "output_type": "stream",
          "name": "stdout",
          "text": [
            "Pilih operasi:\n",
            "1. Serialisasi ke JSON\n",
            "2. Deserialisasi dari JSON\n",
            "3. Serialisasi ke XML\n",
            "4. Deserialisasi dari XML\n",
            "5. Serialisasi ke CSV\n",
            "6. Deserialisasi dari CSV\n",
            "Pilih operasi (1/2/3/4/5/6): 5\n",
            "nama,Alice\n",
            "usia,30\n",
            "kota,Jakarta\n"
          ]
        }
      ]
    },
    {
      "cell_type": "markdown",
      "source": [
        "Program ini memungkinkan pengguna untuk memilih operasi seperti serialisasi ke JSON, deserialisasi dari JSON, serialisasi ke XML, deserialisasi dari XML, serialisasi ke CSV, atau deserialisasi dari CSV. Data kemudian diolah sesuai dengan operasi yang dipilih dan hasilnya dicetak."
      ],
      "metadata": {
        "id": "cWdNr6GHZ2OM"
      }
    },
    {
      "cell_type": "markdown",
      "source": [
        "Contoh 5 dan 6 dalam garis besar \"Serialisasi Data (Pengantar)\" memang cukup mirip. Kedua contoh tersebut mencakup serialisasi dan deserialisasi, tetapi memiliki pendekatan yang berbeda.\n",
        "\n",
        "**Contoh 5:**\n",
        "- Memungkinkan pengguna memilih format (JSON, XML, CSV) untuk serialisasi dan deserialisasi.\n",
        "- Menyediakan fungsi yang berbeda untuk setiap operasi (serialisasi dan deserialisasi).\n",
        "- Berdasarkan input pengguna, melakukan serialisasi atau deserialisasi data.\n",
        "\n",
        "**Contoh 6:**\n",
        "- Juga memungkinkan pengguna memilih operasi (serialisasi atau deserialisasi) tetapi tidak secara khusus membahas format yang berbeda.\n",
        "- Mendefinisikan fungsi terpisah untuk setiap operasi serialisasi atau deserialisasi.\n",
        "- Pengguna memilih operasi (1 untuk serialisasi, 2 untuk deserialisasi), dan kode akan memproses data sesuai dengan pilihan tersebut.\n",
        "\n",
        "Meskipun kedua contoh tersebut mengilustrasikan konsep serialisasi dan deserialisasi, Contoh 5 lebih fokus pada penggunaan berbagai format serialisasi yang berbeda (JSON, XML, CSV) dan memberikan pilihan untuk memilih operasi. Contoh 6 lebih sederhana dan menyediakan pilihan untuk serialisasi atau deserialisasi, tetapi tidak secara eksplisit mengatasi berbagai format. Anda dapat memilih contoh yang paling sesuai dengan kebutuhan pengajaran Anda."
      ],
      "metadata": {
        "id": "KisPdlq5iqgq"
      }
    },
    {
      "cell_type": "code",
      "source": [],
      "metadata": {
        "id": "9nLUS1BRZ4Gv"
      },
      "execution_count": null,
      "outputs": []
    }
  ]
}
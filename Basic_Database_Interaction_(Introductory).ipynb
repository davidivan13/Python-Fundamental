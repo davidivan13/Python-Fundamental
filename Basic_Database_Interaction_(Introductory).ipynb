{
  "nbformat": 4,
  "nbformat_minor": 0,
  "metadata": {
    "colab": {
      "provenance": [],
      "include_colab_link": true
    },
    "kernelspec": {
      "name": "python3",
      "display_name": "Python 3"
    },
    "language_info": {
      "name": "python"
    }
  },
  "cells": [
    {
      "cell_type": "markdown",
      "metadata": {
        "id": "view-in-github",
        "colab_type": "text"
      },
      "source": [
        "<a href=\"https://colab.research.google.com/github/davidivan13/Python-Fundamental/blob/main/Basic_Database_Interaction_(Introductory).ipynb\" target=\"_parent\"><img src=\"https://colab.research.google.com/assets/colab-badge.svg\" alt=\"Open In Colab\"/></a>"
      ]
    },
    {
      "cell_type": "markdown",
      "source": [
        "# Simple\n"
      ],
      "metadata": {
        "id": "3gtK-BGXQgh4"
      }
    },
    {
      "cell_type": "markdown",
      "source": [
        "## contoh 1"
      ],
      "metadata": {
        "id": "fXVTzM7iQkl3"
      }
    },
    {
      "cell_type": "markdown",
      "source": [
        "Koneksi ke Basis Data SQLite"
      ],
      "metadata": {
        "id": "3JLQ045xQ6h_"
      }
    },
    {
      "cell_type": "code",
      "execution_count": 5,
      "metadata": {
        "id": "-Ikx2mt-MuAf"
      },
      "outputs": [],
      "source": [
        "import sqlite3\n",
        "\n",
        "# Membuka koneksi ke database (jika tidak ada, maka akan dibuat)\n",
        "conn = sqlite3.connect('mydatabase.db')\n",
        "\n",
        "# Membuat kursor\n",
        "cursor = conn.cursor()\n",
        "\n",
        "# Menutup koneksi\n",
        "# conn.close()\n"
      ]
    },
    {
      "cell_type": "markdown",
      "source": [
        "Penjelasan:\n",
        "\n",
        "Dalam contoh ini, kita menggunakan modul sqlite3 untuk terhubung ke basis data SQLite.\n",
        "\n",
        "Koneksi dibuka ke database, dan sebuah kursor dibuat untuk menjalankan perintah SQL.\n",
        "\n",
        "Setelah operasi selesai, koneksi ditutup."
      ],
      "metadata": {
        "id": "sJp8E9vLIEbo"
      }
    },
    {
      "cell_type": "markdown",
      "source": [
        "## contoh 2"
      ],
      "metadata": {
        "id": "-AsgxIWPQtcf"
      }
    },
    {
      "cell_type": "markdown",
      "source": [
        "Membuat Tabel dan Memasukkan Data"
      ],
      "metadata": {
        "id": "24tCW-LyQ3_H"
      }
    },
    {
      "cell_type": "code",
      "source": [
        "import sqlite3\n",
        "\n",
        "conn = sqlite3.connect('mydatabase.db')\n",
        "cursor = conn.cursor()\n",
        "\n",
        "# Membuat tabel 'mahasiswa'\n",
        "cursor.execute('''CREATE TABLE mahasiswa (nama TEXT, usia INT)''')\n",
        "\n",
        "# Memasukkan beberapa data\n",
        "data_mahasiswa = [\n",
        "    ('Alice', 25),\n",
        "    ('Bob', 22),\n",
        "    ('Charlie', 28),\n",
        "    ('David', 21),\n",
        "    ('Eve', 23),\n",
        "    ('Frank', 26),\n",
        "    ('Grace', 24),\n",
        "    ('Hannah', 27),\n",
        "    ('Isaac', 22),\n",
        "    ('Jack', 30)\n",
        "]\n",
        "\n",
        "cursor.executemany(\"INSERT INTO mahasiswa VALUES (?, ?)\", data_mahasiswa)\n",
        "\n",
        "# Commit perubahan dan menutup koneksi\n",
        "conn.commit()\n",
        "# conn.close()\n"
      ],
      "metadata": {
        "id": "ouPk0znxQu04",
        "colab": {
          "base_uri": "https://localhost:8080/",
          "height": 211
        },
        "outputId": "9bd972f6-1a8a-45d2-c491-97bd0a1ec496"
      },
      "execution_count": 6,
      "outputs": [
        {
          "output_type": "error",
          "ename": "OperationalError",
          "evalue": "table mahasiswa already exists",
          "traceback": [
            "\u001b[0;31m---------------------------------------------------------------------------\u001b[0m",
            "\u001b[0;31mOperationalError\u001b[0m                          Traceback (most recent call last)",
            "\u001b[0;32m/tmp/ipython-input-6-1906446062.py\u001b[0m in \u001b[0;36m<cell line: 0>\u001b[0;34m()\u001b[0m\n\u001b[1;32m      5\u001b[0m \u001b[0;34m\u001b[0m\u001b[0m\n\u001b[1;32m      6\u001b[0m \u001b[0;31m# Membuat tabel 'mahasiswa'\u001b[0m\u001b[0;34m\u001b[0m\u001b[0;34m\u001b[0m\u001b[0m\n\u001b[0;32m----> 7\u001b[0;31m \u001b[0mcursor\u001b[0m\u001b[0;34m.\u001b[0m\u001b[0mexecute\u001b[0m\u001b[0;34m(\u001b[0m\u001b[0;34m'''CREATE TABLE mahasiswa (nama TEXT, usia INT)'''\u001b[0m\u001b[0;34m)\u001b[0m\u001b[0;34m\u001b[0m\u001b[0;34m\u001b[0m\u001b[0m\n\u001b[0m\u001b[1;32m      8\u001b[0m \u001b[0;34m\u001b[0m\u001b[0m\n\u001b[1;32m      9\u001b[0m \u001b[0;31m# Memasukkan beberapa data\u001b[0m\u001b[0;34m\u001b[0m\u001b[0;34m\u001b[0m\u001b[0m\n",
            "\u001b[0;31mOperationalError\u001b[0m: table mahasiswa already exists"
          ]
        }
      ]
    },
    {
      "cell_type": "markdown",
      "source": [
        "Penjelasan:\n",
        "\n",
        "Dalam contoh ini, kita membuat tabel dalam basis data SQLite ('mahasiswa') dan memasukkan beberapa data ke dalamnya.\n",
        "Data mahasiswa disisipkan menggunakan executemany, yang memungkinkan kita untuk menyisipkan beberapa baris data sekaligus.\n",
        "Setelah operasi selesai, perubahan dicommit dan koneksi ditutup."
      ],
      "metadata": {
        "id": "JDa_RjRmIJ3n"
      }
    },
    {
      "cell_type": "markdown",
      "source": [
        "# Intermediate"
      ],
      "metadata": {
        "id": "olHloADAQ7s3"
      }
    },
    {
      "cell_type": "markdown",
      "source": [
        "## contoh 1"
      ],
      "metadata": {
        "id": "GciwF0IQQ__f"
      }
    },
    {
      "cell_type": "markdown",
      "source": [
        "Mengambil dan Menampilkan Data dari SQLite"
      ],
      "metadata": {
        "id": "bTxi07c1RC2n"
      }
    },
    {
      "cell_type": "code",
      "source": [
        "import sqlite3\n",
        "\n",
        "# conn = sqlite3.connect('mydatabase.db')\n",
        "# cursor = conn.cursor()\n",
        "\n",
        "# Meminta input pengguna\n",
        "nama = input(\"Masukkan nama: \")\n",
        "\n",
        "# Menjalankan perintah SQL\n",
        "cursor.execute(f\"SELECT * FROM mahasiswa WHERE nama = '{nama}'\")\n",
        "\n",
        "# Mengambil data\n",
        "data = cursor.fetchall()\n",
        "\n",
        "if data:\n",
        "    for row in data:\n",
        "        print(\"Nama:\", row[0])\n",
        "        print(\"Usia:\", row[1])\n",
        "else:\n",
        "    print(\"Data tidak ditemukan.\")\n",
        "\n",
        "# conn.close()\n"
      ],
      "metadata": {
        "id": "wE-hIOFWQ9hM",
        "colab": {
          "base_uri": "https://localhost:8080/"
        },
        "outputId": "b86474f9-76fd-4d7d-d93d-f76b5213d02f"
      },
      "execution_count": 7,
      "outputs": [
        {
          "output_type": "stream",
          "name": "stdout",
          "text": [
            "Masukkan nama: Bob\n",
            "Nama: Bob\n",
            "Usia: 22\n"
          ]
        }
      ]
    },
    {
      "cell_type": "markdown",
      "source": [
        "Penjelasan:\n",
        "\n",
        "Dalam contoh ini, kita mengambil data dari basis data SQLite berdasarkan nama yang dimasukkan oleh pengguna.\n",
        "\n",
        "Perintah SQL dijalankan untuk mencari data, dan data kemudian ditampilkan dalam format terstruktur.\n",
        "\n",
        "Dalam contoh ini, kita menggunakan parameter dalam perintah SQL untuk menghindari risiko SQL injection.\n",
        "Penggunaan parameter memungkinkan kita untuk mengamankan perintah SQL saat menggunakan input pengguna."
      ],
      "metadata": {
        "id": "WQ3eERXaL5yD"
      }
    },
    {
      "cell_type": "markdown",
      "source": [
        "# Advanced"
      ],
      "metadata": {
        "id": "Jn1LWdwQRV6u"
      }
    },
    {
      "cell_type": "markdown",
      "source": [
        "## contoh 1"
      ],
      "metadata": {
        "id": "JCU8OuesRYWm"
      }
    },
    {
      "cell_type": "markdown",
      "source": [
        " Kueri dan Penggabungan Tabel"
      ],
      "metadata": {
        "id": "fn8hFR9_RahX"
      }
    },
    {
      "cell_type": "code",
      "source": [
        "import sqlite3\n",
        "\n",
        "conn = sqlite3.connect('mydatabase.db')\n",
        "cursor = conn.cursor()\n",
        "\n",
        "# Menjalankan kueri gabungan\n",
        "cursor.execute(\"\"\"SELECT mahasiswa.nama, mata_kuliah.kode\n",
        "                FROM mahasiswa\n",
        "                JOIN mata_kuliah\n",
        "                ON mahasiswa.id = mata_kuliah.mahasiswa_id\"\"\")\n",
        "\n",
        "data = cursor.fetchall()\n",
        "\n",
        "for row in data:\n",
        "    print(\"Nama Mahasiswa:\", row[0])\n",
        "    print(\"Kode Mata Kuliah:\", row[1])\n",
        "\n",
        "conn.close()\n"
      ],
      "metadata": {
        "id": "8Y3ZQkATRX0p",
        "colab": {
          "base_uri": "https://localhost:8080/",
          "height": 211
        },
        "outputId": "9ff2cc81-5585-44f2-80d9-c2260d14995f"
      },
      "execution_count": 8,
      "outputs": [
        {
          "output_type": "error",
          "ename": "OperationalError",
          "evalue": "no such table: mata_kuliah",
          "traceback": [
            "\u001b[0;31m---------------------------------------------------------------------------\u001b[0m",
            "\u001b[0;31mOperationalError\u001b[0m                          Traceback (most recent call last)",
            "\u001b[0;32m/tmp/ipython-input-8-3374087594.py\u001b[0m in \u001b[0;36m<cell line: 0>\u001b[0;34m()\u001b[0m\n\u001b[1;32m      5\u001b[0m \u001b[0;34m\u001b[0m\u001b[0m\n\u001b[1;32m      6\u001b[0m \u001b[0;31m# Menjalankan kueri gabungan\u001b[0m\u001b[0;34m\u001b[0m\u001b[0;34m\u001b[0m\u001b[0m\n\u001b[0;32m----> 7\u001b[0;31m cursor.execute(\"\"\"SELECT mahasiswa.nama, mata_kuliah.kode\n\u001b[0m\u001b[1;32m      8\u001b[0m                 \u001b[0mFROM\u001b[0m \u001b[0mmahasiswa\u001b[0m\u001b[0;34m\u001b[0m\u001b[0;34m\u001b[0m\u001b[0m\n\u001b[1;32m      9\u001b[0m                 \u001b[0mJOIN\u001b[0m \u001b[0mmata_kuliah\u001b[0m\u001b[0;34m\u001b[0m\u001b[0;34m\u001b[0m\u001b[0m\n",
            "\u001b[0;31mOperationalError\u001b[0m: no such table: mata_kuliah"
          ]
        }
      ]
    },
    {
      "cell_type": "markdown",
      "source": [
        "Penjelasan:\n",
        "\n",
        "Dalam contoh ini, kita menjalankan kueri yang menggabungkan beberapa tabel dalam basis data.\n",
        "\n",
        "Hasil kueri ditampilkan dalam format terstruktur."
      ],
      "metadata": {
        "id": "aVkj7bgKME1H"
      }
    },
    {
      "cell_type": "markdown",
      "source": [
        "## contoh 2"
      ],
      "metadata": {
        "id": "J7dEFUCbRjRv"
      }
    },
    {
      "cell_type": "markdown",
      "source": [
        " Ekspor Hasil Kueri ke File CSV"
      ],
      "metadata": {
        "id": "NETI1IYMRlMX"
      }
    },
    {
      "cell_type": "code",
      "source": [
        "import sqlite3\n",
        "import csv\n",
        "\n",
        "# conn = sqlite3.connect('mydatabase.db')\n",
        "# cursor = conn.cursor()\n",
        "\n",
        "# Menjalankan kueri\n",
        "cursor.execute(\"SELECT * FROM mahasiswa\")\n",
        "\n",
        "data = cursor.fetchall()\n",
        "\n",
        "with open('output.csv', 'w', newline='') as csv_file:\n",
        "    csv_writer = csv.writer(csv_file)\n",
        "\n",
        "    # Menulis header\n",
        "    csv_writer.writerow([i[0] for i in cursor.description])\n",
        "\n",
        "    # Menulis data\n",
        "    csv_writer.writerows(data)\n",
        "\n",
        "conn.close()\n"
      ],
      "metadata": {
        "id": "8dA9I0wTRksq"
      },
      "execution_count": 9,
      "outputs": []
    },
    {
      "cell_type": "markdown",
      "source": [
        "Penjelasan:\n",
        "\n",
        "Dalam contoh ini, kita menjalankan kueri pada basis data SQLite dan menghasilkan hasilnya ke dalam file CSV.\n",
        "Data yang diambil dari basis data ditulis ke dalam file CSV, termasuk header yang menjelaskan setiap kolom."
      ],
      "metadata": {
        "id": "9Spt68OAMOpI"
      }
    },
    {
      "cell_type": "code",
      "source": [],
      "metadata": {
        "id": "5YsewVTPdpJR"
      },
      "execution_count": 6,
      "outputs": []
    }
  ]
}
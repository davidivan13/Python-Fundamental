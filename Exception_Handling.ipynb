{
  "nbformat": 4,
  "nbformat_minor": 0,
  "metadata": {
    "colab": {
      "provenance": [],
      "include_colab_link": true
    },
    "kernelspec": {
      "name": "python3",
      "display_name": "Python 3"
    },
    "language_info": {
      "name": "python"
    }
  },
  "cells": [
    {
      "cell_type": "markdown",
      "metadata": {
        "id": "view-in-github",
        "colab_type": "text"
      },
      "source": [
        "<a href=\"https://colab.research.google.com/github/davidivan13/Python-Fundamental/blob/main/Exception_Handling.ipynb\" target=\"_parent\"><img src=\"https://colab.research.google.com/assets/colab-badge.svg\" alt=\"Open In Colab\"/></a>"
      ]
    },
    {
      "cell_type": "markdown",
      "source": [
        "# Simple"
      ],
      "metadata": {
        "id": "JEpAqYVSFcmd"
      }
    },
    {
      "cell_type": "markdown",
      "source": [
        "## contoh 1"
      ],
      "metadata": {
        "id": "YODtEyHGGIMd"
      }
    },
    {
      "cell_type": "code",
      "execution_count": 2,
      "metadata": {
        "id": "YDPpUcyfFV30",
        "colab": {
          "base_uri": "https://localhost:8080/"
        },
        "outputId": "7341ed12-8a4e-42a4-e54b-3995d098e74d"
      },
      "outputs": [
        {
          "output_type": "stream",
          "name": "stdout",
          "text": [
            "Enter your age: asd\n",
            "Invalid input. Please enter a valid integer for your age.\n"
          ]
        }
      ],
      "source": [
        "try:\n",
        "    age = int(input(\"Enter your age: \"))\n",
        "    print(\"You are {} years old.\".format(age))\n",
        "except ValueError:\n",
        "    print(\"Invalid input. Please enter a valid integer for your age.\")\n"
      ]
    },
    {
      "cell_type": "markdown",
      "source": [
        "## contoh 2"
      ],
      "metadata": {
        "id": "IqPCugmbGMF2"
      }
    },
    {
      "cell_type": "code",
      "source": [
        "try:\n",
        "    with open(\"non_existent_file.txt\", \"r\") as file:\n",
        "        content = file.read()\n",
        "        print(content)\n",
        "except FileNotFoundError:\n",
        "    print(\"File not found.\")\n"
      ],
      "metadata": {
        "colab": {
          "base_uri": "https://localhost:8080/"
        },
        "id": "aF5btoJZGKHy",
        "outputId": "0e090f71-6dc5-440e-80c8-856f5fd733ab"
      },
      "execution_count": 4,
      "outputs": [
        {
          "output_type": "stream",
          "name": "stdout",
          "text": [
            "asd\n"
          ]
        }
      ]
    },
    {
      "cell_type": "markdown",
      "source": [
        "## contoh 3"
      ],
      "metadata": {
        "id": "Zyyp8i1rGfl-"
      }
    },
    {
      "cell_type": "code",
      "source": [
        "try:\n",
        "    while True:\n",
        "        user_input = input(\"Press Ctrl+C to stop: \")\n",
        "        print(\"You entered:\", user_input)\n",
        "except KeyboardInterrupt:\n",
        "    print(\"\\nProgram stopped by user.\")\n"
      ],
      "metadata": {
        "id": "25_HGZAqGZYg",
        "colab": {
          "base_uri": "https://localhost:8080/"
        },
        "outputId": "e41cc889-a69d-46d4-a72b-a89972bed930"
      },
      "execution_count": 6,
      "outputs": [
        {
          "output_type": "stream",
          "name": "stdout",
          "text": [
            "Press Ctrl+C to stop: asd\n",
            "You entered: asd\n",
            "Press Ctrl+C to stop: 123\n",
            "You entered: 123\n",
            "\n",
            "Program stopped by user.\n"
          ]
        }
      ]
    },
    {
      "cell_type": "markdown",
      "source": [
        "# Intermediate"
      ],
      "metadata": {
        "id": "kwBYsfXNGyg9"
      }
    },
    {
      "cell_type": "markdown",
      "source": [
        "## contoh 1"
      ],
      "metadata": {
        "id": "qI7ZF18-G4e2"
      }
    },
    {
      "cell_type": "code",
      "source": [
        "def divide_numbers(a, b):\n",
        "    try:\n",
        "        result = a / b\n",
        "        return result\n",
        "    except ZeroDivisionError:\n",
        "        return \"Division by zero is not allowed.\"\n",
        "\n",
        "result = divide_numbers(100, 0)\n",
        "print(\"Result:\", result)\n"
      ],
      "metadata": {
        "colab": {
          "base_uri": "https://localhost:8080/"
        },
        "id": "G8WpaqgSGhYU",
        "outputId": "eb5e5f80-1c92-4333-d6df-c2d3f8712b8a"
      },
      "execution_count": 7,
      "outputs": [
        {
          "output_type": "stream",
          "name": "stdout",
          "text": [
            "Result: Division by zero is not allowed.\n"
          ]
        }
      ]
    },
    {
      "cell_type": "markdown",
      "source": [
        "## contoh 2"
      ],
      "metadata": {
        "id": "Rg56T24XG6-9"
      }
    },
    {
      "cell_type": "code",
      "source": [
        "def read_file_content(filename):\n",
        "    try:\n",
        "        with open(filename, \"r\") as file:\n",
        "            content = file.read()\n",
        "            return content\n",
        "    except FileNotFoundError:\n",
        "        return \"File not found.\"\n",
        "\n",
        "content = read_file_content(\"non_existent_file.txt\")\n",
        "print(\"File Content:\", content)\n"
      ],
      "metadata": {
        "id": "LiY04iCfG79-",
        "colab": {
          "base_uri": "https://localhost:8080/"
        },
        "outputId": "dee4c70b-ae12-4a01-b5fb-c172fb8d6371"
      },
      "execution_count": 9,
      "outputs": [
        {
          "output_type": "stream",
          "name": "stdout",
          "text": [
            "File Content: File not found.\n"
          ]
        }
      ]
    },
    {
      "cell_type": "markdown",
      "source": [
        "## contoh 3"
      ],
      "metadata": {
        "id": "1UgnvwEDHD1d"
      }
    },
    {
      "cell_type": "code",
      "source": [
        "try:\n",
        "    num = int(input(\"Enter a number: \"))\n",
        "    result = 10 / num\n",
        "    print(\"Result:\", result)\n",
        "except ValueError:\n",
        "    print(\"Invalid input. Enter a valid number.\")\n",
        "except ZeroDivisionError:\n",
        "    print(\"Division by zero is not allowed.\")\n"
      ],
      "metadata": {
        "id": "N5pZbtAdHFjS",
        "colab": {
          "base_uri": "https://localhost:8080/"
        },
        "outputId": "2a523821-d118-4edd-ba17-2c74daed36f5"
      },
      "execution_count": 12,
      "outputs": [
        {
          "output_type": "stream",
          "name": "stdout",
          "text": [
            "Enter a number: 5\n",
            "Result: 2.0\n"
          ]
        }
      ]
    },
    {
      "cell_type": "markdown",
      "source": [
        "# Advanced"
      ],
      "metadata": {
        "id": "H4b_YBidHLh-"
      }
    },
    {
      "cell_type": "markdown",
      "source": [
        "# contoh 1"
      ],
      "metadata": {
        "id": "jitrRKSOHNt9"
      }
    },
    {
      "cell_type": "code",
      "source": [
        "import json\n",
        "\n",
        "\n",
        "# [\n",
        "# \t{\n",
        "# \t\t\"name\": \"Laura Harper\",\n",
        "# \t\t\"equip_id\" \"309\"\n",
        "# \t}\n",
        "# ]\n",
        "\n",
        "def read_json_file(filename):\n",
        "    try:\n",
        "        with open(filename, \"r\") as file:\n",
        "            data = json.load(file)\n",
        "            return data\n",
        "    except FileNotFoundError:\n",
        "        return \"File not found.\"\n",
        "    except json.JSONDecodeError as e:\n",
        "        return f\"JSON decoding error: {str(e)}\"\n",
        "\n",
        "filename = \"invalid_data.json\"\n",
        "result = read_json_file(filename)\n",
        "print(\"Data:\", result)\n"
      ],
      "metadata": {
        "id": "0pdIEIuUHNVW",
        "colab": {
          "base_uri": "https://localhost:8080/"
        },
        "outputId": "f13ac021-044e-4d9e-c817-5aa8e6969bca"
      },
      "execution_count": 15,
      "outputs": [
        {
          "output_type": "stream",
          "name": "stdout",
          "text": [
            "Data: [{'name': 'asd', 'equip_id': '123'}]\n"
          ]
        }
      ]
    },
    {
      "cell_type": "markdown",
      "source": [
        "## contoh 2"
      ],
      "metadata": {
        "id": "GiyhjSZ5H0Ym"
      }
    },
    {
      "cell_type": "code",
      "source": [
        "class CustomException(Exception):\n",
        "    def __init__(self, message):\n",
        "        super().__init__(message)\n",
        "\n",
        "try:\n",
        "    age = int(input(\"Enter your age: \"))\n",
        "    if age < 0:\n",
        "        raise CustomException(\"Age cannot be negative.\")\n",
        "    print(\"You are {} years old.\".format(age))\n",
        "except ValueError:\n",
        "    print(\"Invalid input. Please enter a valid integer for your age.\")\n",
        "except CustomException as ce:\n",
        "    print(\"Custom Exception:\", ce)\n"
      ],
      "metadata": {
        "id": "nAIUn3DKHzvu",
        "colab": {
          "base_uri": "https://localhost:8080/"
        },
        "outputId": "2f4b8242-ed97-4583-89ce-a370d347bd1a"
      },
      "execution_count": 19,
      "outputs": [
        {
          "output_type": "stream",
          "name": "stdout",
          "text": [
            "Enter your age: asd\n",
            "Invalid input. Please enter a valid integer for your age.\n"
          ]
        }
      ]
    },
    {
      "cell_type": "code",
      "source": [],
      "metadata": {
        "id": "ExRui_Zpyitg"
      },
      "execution_count": 19,
      "outputs": []
    }
  ]
}
{
  "nbformat": 4,
  "nbformat_minor": 0,
  "metadata": {
    "colab": {
      "provenance": [],
      "include_colab_link": true
    },
    "kernelspec": {
      "name": "python3",
      "display_name": "Python 3"
    },
    "language_info": {
      "name": "python"
    }
  },
  "cells": [
    {
      "cell_type": "markdown",
      "metadata": {
        "id": "view-in-github",
        "colab_type": "text"
      },
      "source": [
        "<a href=\"https://colab.research.google.com/github/davidivan13/Python-Fundamental/blob/main/String.ipynb\" target=\"_parent\"><img src=\"https://colab.research.google.com/assets/colab-badge.svg\" alt=\"Open In Colab\"/></a>"
      ]
    },
    {
      "cell_type": "markdown",
      "source": [
        "# What is String?\n"
      ],
      "metadata": {
        "id": "6FkIx88TcBmf"
      }
    },
    {
      "cell_type": "code",
      "source": [
        "\"myskill\" or 'myskill'"
      ],
      "metadata": {
        "id": "FD5OVwDqoAce",
        "colab": {
          "base_uri": "https://localhost:8080/",
          "height": 35
        },
        "outputId": "dc37b847-2613-48b1-c0f6-6738857a2e2c"
      },
      "execution_count": 12,
      "outputs": [
        {
          "output_type": "execute_result",
          "data": {
            "text/plain": [
              "'myskill'"
            ],
            "application/vnd.google.colaboratory.intrinsic+json": {
              "type": "string"
            }
          },
          "metadata": {},
          "execution_count": 12
        }
      ]
    },
    {
      "cell_type": "code",
      "source": [
        "print(\"myskill providing course\"[9])\n",
        "print(\"aditya pramana putra\"[-20])"
      ],
      "metadata": {
        "colab": {
          "base_uri": "https://localhost:8080/"
        },
        "id": "OdTbFPYWg9kv",
        "outputId": "dd1eb5d2-f565-4d1a-b261-120eb4f54fcb"
      },
      "execution_count": 13,
      "outputs": [
        {
          "output_type": "stream",
          "name": "stdout",
          "text": [
            "r\n",
            "a\n"
          ]
        }
      ]
    },
    {
      "cell_type": "markdown",
      "source": [
        "## Create String"
      ],
      "metadata": {
        "id": "HJM61Rdjh0cD"
      }
    },
    {
      "cell_type": "code",
      "source": [],
      "metadata": {
        "id": "G-t5Szdo6ITs"
      },
      "execution_count": 13,
      "outputs": []
    },
    {
      "cell_type": "code",
      "source": [
        "# Creating a String\n",
        "# with single Quotes\n",
        "String1 = 'Welcome to MySkill'\n",
        "print(\"String with the use of Single Quotes: \")\n",
        "print(String1)\n",
        "\n",
        "# Creating a String\n",
        "# with double Quotes\n",
        "String1 = \"I'm Jon\"\n",
        "print(\"\\nString with the use of Double Quotes: \")\n",
        "print(String1)\n",
        "\n",
        "# Creating a String\n",
        "# with triple Quotes\n",
        "String1 = '''I'm MySkill Student And I develop \"Skill\"'''\n",
        "print(\"\\nString with the use of Triple Quotes: \")\n",
        "print(String1)\n",
        "\n",
        "string2 = '''i'm to talk about, how much salary in job \"Data Analiyst\"'''\n",
        "print (string2)\n",
        "\n",
        "# Creating String with triple\n",
        "# Quotes allows multiple lines\n",
        "String1 = '''\n",
        "              MySkill\n",
        "              For\n",
        "              Life'''\n",
        "print(\"\\nCreating a multiline String: \")\n",
        "print(String1)\n",
        "\n",
        "string2 = '''\n",
        "              Aditya\n",
        "              Pramana\n",
        "              Putrs'''\n",
        "print(string2)"
      ],
      "metadata": {
        "colab": {
          "base_uri": "https://localhost:8080/"
        },
        "id": "kf5ShND5h4AJ",
        "outputId": "c4a18056-3794-4a30-e43c-ba25e6c0d08e"
      },
      "execution_count": 14,
      "outputs": [
        {
          "output_type": "stream",
          "name": "stdout",
          "text": [
            "String with the use of Single Quotes: \n",
            "Welcome to MySkill\n",
            "\n",
            "String with the use of Double Quotes: \n",
            "I'm Jon\n",
            "\n",
            "String with the use of Triple Quotes: \n",
            "I'm MySkill Student And I develop \"Skill\"\n",
            "i'm to talk about, how much salary in job \"Data Analiyst\"\n",
            "\n",
            "Creating a multiline String: \n",
            "\n",
            "              MySkill\n",
            "              For\n",
            "              Life\n",
            "\n",
            "              Aditya\n",
            "              Pramana\n",
            "              Putrs\n"
          ]
        }
      ]
    },
    {
      "cell_type": "markdown",
      "source": [
        "# Access Character in Python String"
      ],
      "metadata": {
        "id": "8MfAwXKBxv1c"
      }
    },
    {
      "cell_type": "code",
      "source": [
        "String1 = \"MySkill\"\n",
        "print(\"Initial String: \")\n",
        "print(String1)\n",
        "\n",
        "# Printing First character\n",
        "print(\"\\nFirst character of String is: \")\n",
        "print(String1[0])\n",
        "\n",
        "# Printing Last character\n",
        "print(\"\\nLast character of String is: \")\n",
        "print(String1[-1])"
      ],
      "metadata": {
        "id": "2G9uKP45p42K",
        "colab": {
          "base_uri": "https://localhost:8080/"
        },
        "outputId": "8f48f0bf-43da-4da6-c591-0dec10a558cd"
      },
      "execution_count": 15,
      "outputs": [
        {
          "output_type": "stream",
          "name": "stdout",
          "text": [
            "Initial String: \n",
            "MySkill\n",
            "\n",
            "First character of String is: \n",
            "M\n",
            "\n",
            "Last character of String is: \n",
            "l\n"
          ]
        }
      ]
    },
    {
      "cell_type": "markdown",
      "source": [
        "## Reverse String"
      ],
      "metadata": {
        "id": "EvdjJfK9l9Nq"
      }
    },
    {
      "cell_type": "markdown",
      "source": [
        "Dengan Mengakses Karakter dari sebuah string, kita juga dapat membalikkannya. Kita dapat Membalikkan string dengan menulis [::-1] dan string akan dibalik."
      ],
      "metadata": {
        "id": "IicxJ-r4mL3S"
      }
    },
    {
      "cell_type": "code",
      "source": [
        "#Program to reverse a string\n",
        "msk = \"myskill\"\n",
        "print(msk[::-1])\n",
        "\n",
        "balik_nama = \"aytida\"\n",
        "print(balik_nama[::-1])\n"
      ],
      "metadata": {
        "colab": {
          "base_uri": "https://localhost:8080/"
        },
        "id": "kAYsNPBsl_NG",
        "outputId": "4fb9772d-415c-407d-d589-6e511b8410a7"
      },
      "execution_count": 16,
      "outputs": [
        {
          "output_type": "stream",
          "name": "stdout",
          "text": [
            "lliksym\n",
            "aditya\n"
          ]
        }
      ]
    },
    {
      "cell_type": "code",
      "source": [
        "msk = \"myskill\"\n",
        "\n",
        "# Reverse the string using reversed and join function\n",
        "msk = \"\".join(reversed(msk))\n",
        "\n",
        "print(msk)\n",
        "\n",
        "balik_nama = \"aytida\"\n",
        "balik_nama = \"\".join(reversed(balik_nama))\n",
        "print(balik_nama)\n"
      ],
      "metadata": {
        "colab": {
          "base_uri": "https://localhost:8080/"
        },
        "id": "mVQAi9Dim3vs",
        "outputId": "a02d149c-a705-4235-f716-b6dd8fe5a6ca"
      },
      "execution_count": 17,
      "outputs": [
        {
          "output_type": "stream",
          "name": "stdout",
          "text": [
            "lliksym\n",
            "aditya\n"
          ]
        }
      ]
    },
    {
      "cell_type": "markdown",
      "source": [
        "## String Slicing"
      ],
      "metadata": {
        "id": "g1JBN8eFn_gB"
      }
    },
    {
      "cell_type": "markdown",
      "source": [
        "Untuk mengakses berbagai karakter dalam String, metode slicing digunakan. Mengiris dalam sebuah String dilakukan dengan menggunakan operator Slicing (titik dua)."
      ],
      "metadata": {
        "id": "EFXQS3-woFd7"
      }
    },
    {
      "cell_type": "code",
      "source": [
        "# Creating a String\n",
        "String1 = \"ADITYA PRAMANA PUTRA\"\n",
        "print(\"Initial String: \")\n",
        "print(String1)\n",
        "\n",
        "# Printing 3rd to 12th character\n",
        "print(\"\\nSlicing characters from 3-12: \")\n",
        "print(String1[3:8])\n",
        "\n",
        "# Printing characters between\n",
        "# 3rd and 2nd last character\n",
        "print(\"\\nSlicing characters between \" +\n",
        "\t\"3rd and 2nd last character: \")\n",
        "print(String1[3:-1])\n",
        "\n",
        "print(String1[-1])\n",
        "print(String1[:])\n"
      ],
      "metadata": {
        "colab": {
          "base_uri": "https://localhost:8080/"
        },
        "id": "3YYxTTR5oBrg",
        "outputId": "9a2fbe21-0320-4853-d112-c607988063fa"
      },
      "execution_count": 18,
      "outputs": [
        {
          "output_type": "stream",
          "name": "stdout",
          "text": [
            "Initial String: \n",
            "ADITYA PRAMANA PUTRA\n",
            "\n",
            "Slicing characters from 3-12: \n",
            "TYA P\n",
            "\n",
            "Slicing characters between 3rd and 2nd last character: \n",
            "TYA PRAMANA PUTR\n",
            "A\n",
            "ADITYA PRAMANA PUTRA\n"
          ]
        }
      ]
    },
    {
      "cell_type": "markdown",
      "source": [
        "## Delete and Update String"
      ],
      "metadata": {
        "id": "aBelpviLyl0B"
      }
    },
    {
      "cell_type": "markdown",
      "source": [
        "## Update Character"
      ],
      "metadata": {
        "id": "YjQFL16bs5NW"
      }
    },
    {
      "cell_type": "code",
      "source": [
        "# Python Program to Update\n",
        "# character of a String\n",
        "\n",
        "String1 = \"ADITIA PRAMANA PUTRA\"\n",
        "print(\"Initial String: \")\n",
        "print(String1)\n",
        "\n",
        "# Updating a character of the String\n",
        "## As python strings are immutable, they don't support item updation directly\n",
        "### there are following two ways\n",
        "#1\n",
        "list1 = list(String1)\n",
        "list1[4] = 'Y'\n",
        "String2 = ''.join(list1)\n",
        "print(\"\\nUpdating character at 2nd Index: \")\n",
        "print(String2)\n",
        "\n",
        "#2\n",
        "String3 = String1[0:4] + 'Y' + String1[5:]\n",
        "print(String3)\n"
      ],
      "metadata": {
        "colab": {
          "base_uri": "https://localhost:8080/"
        },
        "id": "2tN-nWRWriGl",
        "outputId": "b65a63c3-a0d5-47e0-8a20-7a4e86283c07"
      },
      "execution_count": 19,
      "outputs": [
        {
          "output_type": "stream",
          "name": "stdout",
          "text": [
            "Initial String: \n",
            "ADITIA PRAMANA PUTRA\n",
            "\n",
            "Updating character at 2nd Index: \n",
            "ADITYA PRAMANA PUTRA\n",
            "ADITYA PRAMANA PUTRA\n"
          ]
        }
      ]
    },
    {
      "cell_type": "markdown",
      "source": [
        "## Update Entire String"
      ],
      "metadata": {
        "id": "QZIYZAA5twAT"
      }
    },
    {
      "cell_type": "code",
      "source": [
        "String1 = \"Hello, I'm Faras\"\n",
        "print(\"Initial String: \")\n",
        "print(String1)\n",
        "\n",
        "# Updating a String\n",
        "String1 = \"Welcome to MySkill\"\n",
        "print(\"\\nUpdated String: \")\n",
        "print(String1)\n"
      ],
      "metadata": {
        "colab": {
          "base_uri": "https://localhost:8080/"
        },
        "id": "dWI41gq-s_J-",
        "outputId": "92011a94-1918-4acd-8ad9-e11a79d73d44"
      },
      "execution_count": 20,
      "outputs": [
        {
          "output_type": "stream",
          "name": "stdout",
          "text": [
            "Initial String: \n",
            "Hello, I'm Faras\n",
            "\n",
            "Updated String: \n",
            "Welcome to MySkill\n"
          ]
        }
      ]
    },
    {
      "cell_type": "markdown",
      "source": [
        "## Delete Character"
      ],
      "metadata": {
        "id": "jyfGK7Dut-l2"
      }
    },
    {
      "cell_type": "code",
      "source": [
        "String1 = \"ADITYYA PRAMANA PUTRA\"\n",
        "print(\"Initial String: \")\n",
        "print(String1)\n",
        "\n",
        "# Deleting a character\n",
        "# of the String\n",
        "String2 = String1[0:5] + String1[6:]\n",
        "print(\"\\nDeleting character at 2nd Index: \")\n",
        "print(String2)"
      ],
      "metadata": {
        "colab": {
          "base_uri": "https://localhost:8080/"
        },
        "id": "6SrGj9iXt3Vt",
        "outputId": "fc4f44a2-e4f6-4970-e370-f024139472f2"
      },
      "execution_count": 21,
      "outputs": [
        {
          "output_type": "stream",
          "name": "stdout",
          "text": [
            "Initial String: \n",
            "ADITYYA PRAMANA PUTRA\n",
            "\n",
            "Deleting character at 2nd Index: \n",
            "ADITYA PRAMANA PUTRA\n"
          ]
        }
      ]
    },
    {
      "cell_type": "markdown",
      "source": [
        "## Deleting Entire String"
      ],
      "metadata": {
        "id": "BxsvUsRouiXB"
      }
    },
    {
      "cell_type": "code",
      "source": [
        "String1 = \"Welcome to MySkill\"\n",
        "print(\"Initial String: \")\n",
        "print(String1)\n",
        "\n",
        "\n",
        "# Deleting a String\n",
        "# with the use of del\n",
        "\n",
        "\n",
        "del String1\n",
        "print(\"\\nDeleting entire String: \")\n",
        "print(String1)\n"
      ],
      "metadata": {
        "colab": {
          "base_uri": "https://localhost:8080/",
          "height": 245
        },
        "id": "shSLxlX1uG6x",
        "outputId": "cddca2d1-8129-4cfc-bf39-f3005636f96e"
      },
      "execution_count": 22,
      "outputs": [
        {
          "output_type": "stream",
          "name": "stdout",
          "text": [
            "Initial String: \n",
            "Welcome to MySkill\n",
            "\n",
            "Deleting entire String: \n"
          ]
        },
        {
          "output_type": "error",
          "ename": "NameError",
          "evalue": "name 'String1' is not defined",
          "traceback": [
            "\u001b[0;31m---------------------------------------------------------------------------\u001b[0m",
            "\u001b[0;31mNameError\u001b[0m                                 Traceback (most recent call last)",
            "\u001b[0;32m/tmp/ipython-input-22-1619670324.py\u001b[0m in \u001b[0;36m<cell line: 0>\u001b[0;34m()\u001b[0m\n\u001b[1;32m     10\u001b[0m \u001b[0;32mdel\u001b[0m \u001b[0mString1\u001b[0m\u001b[0;34m\u001b[0m\u001b[0;34m\u001b[0m\u001b[0m\n\u001b[1;32m     11\u001b[0m \u001b[0mprint\u001b[0m\u001b[0;34m(\u001b[0m\u001b[0;34m\"\\nDeleting entire String: \"\u001b[0m\u001b[0;34m)\u001b[0m\u001b[0;34m\u001b[0m\u001b[0;34m\u001b[0m\u001b[0m\n\u001b[0;32m---> 12\u001b[0;31m \u001b[0mprint\u001b[0m\u001b[0;34m(\u001b[0m\u001b[0mString1\u001b[0m\u001b[0;34m)\u001b[0m\u001b[0;34m\u001b[0m\u001b[0;34m\u001b[0m\u001b[0m\n\u001b[0m",
            "\u001b[0;31mNameError\u001b[0m: name 'String1' is not defined"
          ]
        }
      ]
    },
    {
      "cell_type": "markdown",
      "source": [
        "# Escape Sequence in Python"
      ],
      "metadata": {
        "id": "74XYTwmxwJqF"
      }
    },
    {
      "cell_type": "code",
      "source": [
        "# Initial String\n",
        "String1 = '''I'm \"Smart\"'''\n",
        "print(\"Initial String with use of Triple Quotes: \")\n",
        "print(String1)\n",
        "\n",
        "# Escaping Single Quote\n",
        "String1 = 'I\\'m very \"tired\" with you'\n",
        "print(\"\\nEscaping Single Quote: \")\n",
        "print(String1)\n",
        "\n",
        "# Escaping Double Quotes\n",
        "String1 = \"I'm very \\\"Tired\\\" with you\"\n",
        "print(\"\\nEscaping Double Quotes: \")       #note : kasih tanda \\ dlu baru tanda yang ingin kita tetapkan\n",
        "print(String1)\n",
        "\n",
        "# Printing Paths with the\n",
        "# use of Escape Sequences\n",
        "String1 = \"C: Https:\\\\\\Aditya\\\\Channel\\\\.com\"\n",
        "print(\"\\nEscaping Backslashes: \")\n",
        "print(String1)\n",
        "\n",
        "# Printing Paths with the\n",
        "# use of Tab\n",
        "String1 = \"Note:\\t Jika ada sesuatu..\"\n",
        "print(\"\\nTab: \")\n",
        "print(String1)\n",
        "\n",
        "# Printing Paths with the\n",
        "# use of New Line\n",
        "String1 = \"Nama\\nNIM\"\n",
        "print(\"\\nNew Line: \")\n",
        "print(String1)\n"
      ],
      "metadata": {
        "colab": {
          "base_uri": "https://localhost:8080/"
        },
        "id": "V822VJycutDh",
        "outputId": "4864250a-996f-4205-dff7-661254e25782"
      },
      "execution_count": 23,
      "outputs": [
        {
          "output_type": "stream",
          "name": "stdout",
          "text": [
            "Initial String with use of Triple Quotes: \n",
            "I'm \"Smart\"\n",
            "\n",
            "Escaping Single Quote: \n",
            "I'm very \"tired\" with you\n",
            "\n",
            "Escaping Double Quotes: \n",
            "I'm very \"Tired\" with you\n",
            "\n",
            "Escaping Backslashes: \n",
            "C: Https:\\\\Aditya\\Channel\\.com\n",
            "\n",
            "Tab: \n",
            "Note:\t Jika ada sesuatu..\n",
            "\n",
            "New Line: \n",
            "Nama\n",
            "NIM\n"
          ]
        }
      ]
    },
    {
      "cell_type": "markdown",
      "source": [
        "# Formatting in String"
      ],
      "metadata": {
        "id": "4D0qD1N2zCNV"
      }
    },
    {
      "cell_type": "code",
      "source": [
        "# Default order\n",
        "String1 = \"{} {} {}\".format('MySkill', 'For', 'Learning')\n",
        "print(\"Print String in default order: \")\n",
        "print(String1)\n",
        "\n",
        "nama_gw = \"{} {} {}\".format('Aditya','Pramana','Putra')\n",
        "print(nama_gw)\n",
        "\n",
        "# Positional Formatting\n",
        "String1 = \"{1} {0} {2}\".format('MySkill', 'For', 'Learning')\n",
        "print(\"\\nPrint String in Positional order: \")\n",
        "print(String1)\n",
        "\n",
        "nama_gw = \"{2} {1} {0}\".format('Aditya','Pramana','Putra')\n",
        "print(nama_gw)\n",
        "\n",
        "\n",
        "# Keyword Formatting\n",
        "String1 = \"{l} {f} {g}\".format(g='MySkill', f='For', l='Learning')\n",
        "print(\"\\nPrint String in order of Keywords: \")\n",
        "print(String1)\n",
        "\n",
        "nama_gw = \"{a} {b} {c}\".format(a='Aditya',b='Pramana',c='Putra')\n",
        "print(nama_gw)\n",
        "\n"
      ],
      "metadata": {
        "colab": {
          "base_uri": "https://localhost:8080/"
        },
        "id": "IN1hwHV9xcjx",
        "outputId": "c0f744a6-fa26-4837-e5b0-09cae6a89d7e"
      },
      "execution_count": 24,
      "outputs": [
        {
          "output_type": "stream",
          "name": "stdout",
          "text": [
            "Print String in default order: \n",
            "MySkill For Learning\n",
            "Aditya Pramana Putra\n",
            "\n",
            "Print String in Positional order: \n",
            "For MySkill Learning\n",
            "Putra Pramana Aditya\n",
            "\n",
            "Print String in order of Keywords: \n",
            "Learning For MySkill\n",
            "Aditya Pramana Putra\n"
          ]
        }
      ]
    },
    {
      "cell_type": "markdown",
      "source": [
        "Bilangan bulat seperti Biner, heksadesimal, dll., dan float dapat dibulatkan atau ditampilkan dalam bentuk eksponen dengan menggunakan penentu format."
      ],
      "metadata": {
        "id": "3On9m0cEzoU_"
      }
    },
    {
      "cell_type": "code",
      "source": [
        "# Formatting of Integers\n",
        "String1 = \"{0:b}\".format(16)\n",
        "print(\"\\nBinary representation of 16 is \")\n",
        "print(String1)\n",
        "\n",
        "# Formatting of Floats\n",
        "String1 = \"{0:e}\".format(165.6458)\n",
        "print(\"\\nExponent representation of 165.6458 is \")\n",
        "print(String1)\n",
        "\n",
        "# Rounding off Integers\n",
        "String1 = \"{0:.2f}\".format(23/400)\n",
        "print(\"\\none-sixth is : \")\n",
        "print(String1)\n"
      ],
      "metadata": {
        "colab": {
          "base_uri": "https://localhost:8080/"
        },
        "id": "5lRNqh6-zj8b",
        "outputId": "bc5cb4bf-a72e-4778-e7d6-1a7ca9cca769"
      },
      "execution_count": 25,
      "outputs": [
        {
          "output_type": "stream",
          "name": "stdout",
          "text": [
            "\n",
            "Binary representation of 16 is \n",
            "10000\n",
            "\n",
            "Exponent representation of 165.6458 is \n",
            "1.656458e+02\n",
            "\n",
            "one-sixth is : \n",
            "0.06\n"
          ]
        }
      ]
    },
    {
      "cell_type": "markdown",
      "source": [
        "Sebuah string dapat dibiarkan () atau tengah (^) dibenarkan dengan penggunaan penentu format, dipisahkan oleh titik dua (:)."
      ],
      "metadata": {
        "id": "lJ_poP1Gz0Lp"
      }
    },
    {
      "cell_type": "code",
      "source": [
        "# String alignment\n",
        "String1 = \"|{:<1}|{:^1}|{:>1}|\".format('MySkill','for','Learning')\n",
        "print(\"\\nLeft, center and right alignment with Formatting: \")\n",
        "print(String1)\n",
        "\n",
        "# To demonstrate aligning of spaces\n",
        "String1 = \"\\n{0:^16} was founded in {1:<4}!\".format(\"MySkillForLearning\",\n",
        "\t\t\t\t\t\t\t\t\t\t\t\t\t2021)\n",
        "print(String1)\n"
      ],
      "metadata": {
        "colab": {
          "base_uri": "https://localhost:8080/"
        },
        "id": "qZe1EQxpzwCP",
        "outputId": "f33ffea6-def1-4e3b-c47c-151375f09bcc"
      },
      "execution_count": 26,
      "outputs": [
        {
          "output_type": "stream",
          "name": "stdout",
          "text": [
            "\n",
            "Left, center and right alignment with Formatting: \n",
            "|MySkill|for|Learning|\n",
            "\n",
            "MySkillForLearning was founded in 2021!\n"
          ]
        }
      ]
    },
    {
      "cell_type": "markdown",
      "source": [
        "Pemformatan gaya lama dilakukan tanpa menggunakan metode format dengan menggunakan % operator"
      ],
      "metadata": {
        "id": "OwQcbfGW0V6l"
      }
    },
    {
      "cell_type": "code",
      "source": [
        "Integer1 = 12.3456789\n",
        "print(\"Formatting in 3.2f format: \")\n",
        "print('The value of Integer1 is %3.2f' % Integer1)\n",
        "print(\"\\nFormatting in 3.4f format: \")\n",
        "print('The value of Integer1 is %1.1fd' % Integer1)\n",
        "\n",
        "print('The value of Integer1 is %3.3f' % Integer1)\n"
      ],
      "metadata": {
        "colab": {
          "base_uri": "https://localhost:8080/"
        },
        "id": "tzfg-bVZ0EFL",
        "outputId": "084cc841-8a10-4397-f7a6-077276c1a2b0"
      },
      "execution_count": 27,
      "outputs": [
        {
          "output_type": "stream",
          "name": "stdout",
          "text": [
            "Formatting in 3.2f format: \n",
            "The value of Integer1 is 12.35\n",
            "\n",
            "Formatting in 3.4f format: \n",
            "The value of Integer1 is 12.3d\n",
            "The value of Integer1 is 12.346\n"
          ]
        }
      ]
    }
  ]
}
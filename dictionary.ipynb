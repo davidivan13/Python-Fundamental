{
  "nbformat": 4,
  "nbformat_minor": 0,
  "metadata": {
    "colab": {
      "provenance": [],
      "include_colab_link": true
    },
    "kernelspec": {
      "name": "python3",
      "display_name": "Python 3"
    },
    "language_info": {
      "name": "python"
    }
  },
  "cells": [
    {
      "cell_type": "markdown",
      "metadata": {
        "id": "view-in-github",
        "colab_type": "text"
      },
      "source": [
        "<a href=\"https://colab.research.google.com/github/davidivan13/Python-Fundamental/blob/main/dictionary.ipynb\" target=\"_parent\"><img src=\"https://colab.research.google.com/assets/colab-badge.svg\" alt=\"Open In Colab\"/></a>"
      ]
    },
    {
      "cell_type": "markdown",
      "source": [
        "# Defining Dictionary"
      ],
      "metadata": {
        "id": "YpMivv91LOMS"
      }
    },
    {
      "cell_type": "code",
      "execution_count": 1,
      "metadata": {
        "id": "jkqEht-HKzfr",
        "colab": {
          "base_uri": "https://localhost:8080/"
        },
        "outputId": "2abd51a7-c176-4261-a985-4502833e8438"
      },
      "outputs": [
        {
          "output_type": "stream",
          "name": "stdout",
          "text": [
            "{'a': 1, 'b': 4, 'c': 3}\n"
          ]
        }
      ],
      "source": [
        "dicts = {'a':1, 'b':4, 'c':3}\n",
        "print(dicts)"
      ]
    },
    {
      "cell_type": "code",
      "source": [
        "sport_team = dict([\n",
        "    ('Colorado', 'Rockies'),\n",
        "    ('Boston', 'Red Sox'),\n",
        "    ('Minnesota', 'Twins'),\n",
        "    ('Milwaukee', 'Brewers'),\n",
        "    ('Seattle', 'Mariners')\n",
        "])\n",
        "print(sport_team)"
      ],
      "metadata": {
        "colab": {
          "base_uri": "https://localhost:8080/"
        },
        "id": "McDjfSAZN5oc",
        "outputId": "3477345f-af99-4e5b-d0c3-e3f28f7a2f9c"
      },
      "execution_count": 2,
      "outputs": [
        {
          "output_type": "stream",
          "name": "stdout",
          "text": [
            "{'Colorado': 'Rockies', 'Boston': 'Red Sox', 'Minnesota': 'Twins', 'Milwaukee': 'Brewers', 'Seattle': 'Mariners'}\n"
          ]
        }
      ]
    },
    {
      "cell_type": "code",
      "source": [
        "sport_team = dict(\n",
        "    Colorado='Rockies',\n",
        "    Boston='Red Sox',\n",
        "    Minnesota='Twins',\n",
        "    Milwaukee='Brewers',\n",
        "    Seattle='Mariners'\n",
        ")\n",
        "print(sport_team)"
      ],
      "metadata": {
        "colab": {
          "base_uri": "https://localhost:8080/"
        },
        "id": "M-m85RLTODoT",
        "outputId": "295332c2-d91c-482f-96b5-cc15bf244855"
      },
      "execution_count": 3,
      "outputs": [
        {
          "output_type": "stream",
          "name": "stdout",
          "text": [
            "{'Colorado': 'Rockies', 'Boston': 'Red Sox', 'Minnesota': 'Twins', 'Milwaukee': 'Brewers', 'Seattle': 'Mariners'}\n"
          ]
        }
      ]
    },
    {
      "cell_type": "markdown",
      "source": [
        "# Accessing Dictionary"
      ],
      "metadata": {
        "id": "DAk79qtYPsE9"
      }
    },
    {
      "cell_type": "code",
      "source": [
        "sport_team[1]"
      ],
      "metadata": {
        "colab": {
          "base_uri": "https://localhost:8080/",
          "height": 141
        },
        "id": "dsig7p76OMhh",
        "outputId": "398c2a05-5555-4ff9-aab3-5248c70331b9"
      },
      "execution_count": 4,
      "outputs": [
        {
          "output_type": "error",
          "ename": "KeyError",
          "evalue": "1",
          "traceback": [
            "\u001b[0;31m---------------------------------------------------------------------------\u001b[0m",
            "\u001b[0;31mKeyError\u001b[0m                                  Traceback (most recent call last)",
            "\u001b[0;32m/tmp/ipython-input-4-1761574444.py\u001b[0m in \u001b[0;36m<cell line: 0>\u001b[0;34m()\u001b[0m\n\u001b[0;32m----> 1\u001b[0;31m \u001b[0msport_team\u001b[0m\u001b[0;34m[\u001b[0m\u001b[0;36m1\u001b[0m\u001b[0;34m]\u001b[0m\u001b[0;34m\u001b[0m\u001b[0;34m\u001b[0m\u001b[0m\n\u001b[0m",
            "\u001b[0;31mKeyError\u001b[0m: 1"
          ]
        }
      ]
    },
    {
      "cell_type": "markdown",
      "source": [
        "\n",
        "\n",
        "```\n",
        "# This is formatted as code\n",
        "```\n",
        "\n",
        "[] access by square bracket"
      ],
      "metadata": {
        "id": "J5aBP5-OSn1Z"
      }
    },
    {
      "cell_type": "code",
      "source": [
        "print(sport_team['Minnesota'])\n",
        "print(sport_team['Colorado'])"
      ],
      "metadata": {
        "colab": {
          "base_uri": "https://localhost:8080/"
        },
        "id": "6VS7pfV_REDx",
        "outputId": "4d509423-4923-480d-b254-8a7f7f1f00ce"
      },
      "execution_count": 5,
      "outputs": [
        {
          "output_type": "stream",
          "name": "stdout",
          "text": [
            "Twins\n",
            "Rockies\n"
          ]
        }
      ]
    },
    {
      "cell_type": "markdown",
      "source": [
        "Jika Anda merujuk ke key yang tidak ada dalam dictionary, Python memunculkan Exception"
      ],
      "metadata": {
        "id": "Wzwkg3geS0YV"
      }
    },
    {
      "cell_type": "code",
      "source": [
        "print(sport_team['Toronto'])"
      ],
      "metadata": {
        "colab": {
          "base_uri": "https://localhost:8080/",
          "height": 141
        },
        "id": "IVlB1sPpSdqq",
        "outputId": "523bf830-9646-4cbf-fb73-bbd2a497d033"
      },
      "execution_count": 6,
      "outputs": [
        {
          "output_type": "error",
          "ename": "KeyError",
          "evalue": "'Toronto'",
          "traceback": [
            "\u001b[0;31m---------------------------------------------------------------------------\u001b[0m",
            "\u001b[0;31mKeyError\u001b[0m                                  Traceback (most recent call last)",
            "\u001b[0;32m/tmp/ipython-input-6-1929555237.py\u001b[0m in \u001b[0;36m<cell line: 0>\u001b[0;34m()\u001b[0m\n\u001b[0;32m----> 1\u001b[0;31m \u001b[0mprint\u001b[0m\u001b[0;34m(\u001b[0m\u001b[0msport_team\u001b[0m\u001b[0;34m[\u001b[0m\u001b[0;34m'Toronto'\u001b[0m\u001b[0;34m]\u001b[0m\u001b[0;34m)\u001b[0m\u001b[0;34m\u001b[0m\u001b[0;34m\u001b[0m\u001b[0m\n\u001b[0m",
            "\u001b[0;31mKeyError\u001b[0m: 'Toronto'"
          ]
        }
      ]
    },
    {
      "cell_type": "markdown",
      "source": [
        "adding new entry"
      ],
      "metadata": {
        "id": "Tb4gvDS5Tp8s"
      }
    },
    {
      "cell_type": "code",
      "source": [
        "sport_team['Kansas City'] = 'Royals'\n",
        "print(sport_team)\n",
        "sport_team['Seattle'] = 'Seahawks'\n",
        "print(sport_team)"
      ],
      "metadata": {
        "colab": {
          "base_uri": "https://localhost:8080/"
        },
        "id": "hgKJA5scTgwb",
        "outputId": "b1d02121-0bac-44b5-dfb8-74cdf9a561fe"
      },
      "execution_count": 7,
      "outputs": [
        {
          "output_type": "stream",
          "name": "stdout",
          "text": [
            "{'Colorado': 'Rockies', 'Boston': 'Red Sox', 'Minnesota': 'Twins', 'Milwaukee': 'Brewers', 'Seattle': 'Mariners', 'Kansas City': 'Royals'}\n",
            "{'Colorado': 'Rockies', 'Boston': 'Red Sox', 'Minnesota': 'Twins', 'Milwaukee': 'Brewers', 'Seattle': 'Seahawks', 'Kansas City': 'Royals'}\n"
          ]
        }
      ]
    },
    {
      "cell_type": "markdown",
      "source": [
        "delete entry using del"
      ],
      "metadata": {
        "id": "7a3A1MbUT6eO"
      }
    },
    {
      "cell_type": "code",
      "source": [
        "del sport_team['Seattle']\n",
        "print(sport_team)"
      ],
      "metadata": {
        "colab": {
          "base_uri": "https://localhost:8080/"
        },
        "id": "mUNvnAO6T1hh",
        "outputId": "708e564c-bd42-4a04-bf12-17cfc885f2b9"
      },
      "execution_count": 8,
      "outputs": [
        {
          "output_type": "stream",
          "name": "stdout",
          "text": [
            "{'Colorado': 'Rockies', 'Boston': 'Red Sox', 'Minnesota': 'Twins', 'Milwaukee': 'Brewers', 'Kansas City': 'Royals'}\n"
          ]
        }
      ]
    },
    {
      "cell_type": "markdown",
      "source": [
        "# Dictionary key vs List Indexing"
      ],
      "metadata": {
        "id": "Ev7E0TdXUo-s"
      }
    },
    {
      "cell_type": "code",
      "source": [
        "sport_team['Toronto']"
      ],
      "metadata": {
        "colab": {
          "base_uri": "https://localhost:8080/",
          "height": 141
        },
        "id": "EyYWlc7GT-uF",
        "outputId": "60855da4-ffad-47ae-b0f5-f0679d608af9"
      },
      "execution_count": 9,
      "outputs": [
        {
          "output_type": "error",
          "ename": "KeyError",
          "evalue": "'Toronto'",
          "traceback": [
            "\u001b[0;31m---------------------------------------------------------------------------\u001b[0m",
            "\u001b[0;31mKeyError\u001b[0m                                  Traceback (most recent call last)",
            "\u001b[0;32m/tmp/ipython-input-9-3995876666.py\u001b[0m in \u001b[0;36m<cell line: 0>\u001b[0;34m()\u001b[0m\n\u001b[0;32m----> 1\u001b[0;31m \u001b[0msport_team\u001b[0m\u001b[0;34m[\u001b[0m\u001b[0;34m'Toronto'\u001b[0m\u001b[0;34m]\u001b[0m\u001b[0;34m\u001b[0m\u001b[0;34m\u001b[0m\u001b[0m\n\u001b[0m",
            "\u001b[0;31mKeyError\u001b[0m: 'Toronto'"
          ]
        }
      ]
    },
    {
      "cell_type": "code",
      "source": [
        "sport_team[1]"
      ],
      "metadata": {
        "colab": {
          "base_uri": "https://localhost:8080/",
          "height": 141
        },
        "id": "WRw7MUsaUw-s",
        "outputId": "cf623e9c-da73-4270-a661-8797113d3add"
      },
      "execution_count": 10,
      "outputs": [
        {
          "output_type": "error",
          "ename": "KeyError",
          "evalue": "1",
          "traceback": [
            "\u001b[0;31m---------------------------------------------------------------------------\u001b[0m",
            "\u001b[0;31mKeyError\u001b[0m                                  Traceback (most recent call last)",
            "\u001b[0;32m/tmp/ipython-input-10-1761574444.py\u001b[0m in \u001b[0;36m<cell line: 0>\u001b[0;34m()\u001b[0m\n\u001b[0;32m----> 1\u001b[0;31m \u001b[0msport_team\u001b[0m\u001b[0;34m[\u001b[0m\u001b[0;36m1\u001b[0m\u001b[0;34m]\u001b[0m\u001b[0;34m\u001b[0m\u001b[0;34m\u001b[0m\u001b[0m\n\u001b[0m",
            "\u001b[0;31mKeyError\u001b[0m: 1"
          ]
        }
      ]
    },
    {
      "cell_type": "markdown",
      "source": [
        "Faktanya, itu adalah kesalahan yang sama. Dalam kasus terakhir, [1] terlihat seperti indeks numerik, tetapi tidak.\n",
        "\n",
        "Anda akan melihat nanti dalam tutorial ini bahwa objek dari jenis apa pun yang tidak dapat diubah dapat digunakan sebagai kunci dictionary. Oleh karena itu, tidak ada alasan Anda tidak dapat menggunakan bilangan bulat"
      ],
      "metadata": {
        "id": "gj0MnlWcVY1H"
      }
    },
    {
      "cell_type": "code",
      "source": [
        "d = {0: 'a', 1: 'b', 2: 'c', 3: 'd'}\n",
        "print(d)\n",
        "\n",
        "\n",
        "print(d[0])\n",
        "\n",
        "print(d[2])"
      ],
      "metadata": {
        "colab": {
          "base_uri": "https://localhost:8080/"
        },
        "id": "6xlUoEcZUx3x",
        "outputId": "2b0acc06-35ac-455c-80e8-f3986fcdf508"
      },
      "execution_count": 11,
      "outputs": [
        {
          "output_type": "stream",
          "name": "stdout",
          "text": [
            "{0: 'a', 1: 'b', 2: 'c', 3: 'd'}\n",
            "a\n",
            "c\n"
          ]
        }
      ]
    },
    {
      "cell_type": "markdown",
      "source": [
        "Dalam ekspresi sport_team[1], d[0], dan d[2], angka-angka dalam tanda kurung siku tampak seperti indeks. Tetapi mereka tidak ada hubungannya dengan urutan item dalam dictionary. Python menafsirkannya sebagai kunci dictionary. Jika Anda mendefinisikan dict yang sama ini dalam urutan terbalik, Anda masih mendapatkan nilai yang sama menggunakan kunci yang sama"
      ],
      "metadata": {
        "id": "S8wZyXj2Vv4X"
      }
    },
    {
      "cell_type": "code",
      "source": [
        "d = {3: 'd', 2: 'c', 1: 'b', 0: 'a'}\n",
        "print(d)\n",
        "\n",
        "\n",
        "print(d[0])\n",
        "\n",
        "print(d[2])"
      ],
      "metadata": {
        "colab": {
          "base_uri": "https://localhost:8080/"
        },
        "id": "QL-VrqphViNc",
        "outputId": "1db35a33-b0f5-42aa-8bba-0e38cc949db7"
      },
      "execution_count": 12,
      "outputs": [
        {
          "output_type": "stream",
          "name": "stdout",
          "text": [
            "{3: 'd', 2: 'c', 1: 'b', 0: 'a'}\n",
            "a\n",
            "c\n"
          ]
        }
      ]
    },
    {
      "cell_type": "markdown",
      "source": [
        "# Building a Dictionary Incrementally"
      ],
      "metadata": {
        "id": "IgNyL4NJWmpD"
      }
    },
    {
      "cell_type": "code",
      "source": [
        "person = {}\n",
        "type(person)\n",
        "\n",
        "\n",
        "person['fname'] = 'Joe'\n",
        "person['lname'] = 'Fonebone'\n",
        "person['age'] = 51\n",
        "person['spouse'] = 'Edna'\n",
        "person['children'] = ['Ralph', 'Betty', 'Joey']\n",
        "person['pets'] = {'dog': 'Fido', 'cat': 'Sox'}"
      ],
      "metadata": {
        "id": "1HwUut2WV7YT"
      },
      "execution_count": 13,
      "outputs": []
    },
    {
      "cell_type": "code",
      "source": [
        "print(person)\n",
        "\n",
        "\n",
        "\n",
        "print(person['fname'])\n",
        "\n",
        "print(person['age'])\n",
        "\n",
        "print(person['children'])\n"
      ],
      "metadata": {
        "colab": {
          "base_uri": "https://localhost:8080/"
        },
        "id": "hptTmsi_WpA_",
        "outputId": "33b5d702-8b9a-43f3-851b-176700ec4234"
      },
      "execution_count": 14,
      "outputs": [
        {
          "output_type": "stream",
          "name": "stdout",
          "text": [
            "{'fname': 'Joe', 'lname': 'Fonebone', 'age': 51, 'spouse': 'Edna', 'children': ['Ralph', 'Betty', 'Joey'], 'pets': {'dog': 'Fido', 'cat': 'Sox'}}\n",
            "Joe\n",
            "51\n",
            "['Ralph', 'Betty', 'Joey']\n"
          ]
        }
      ]
    },
    {
      "cell_type": "markdown",
      "source": [
        "Mengambil nilai dalam sublist atau subdictionary memerlukan indeks atau kunci tambahan"
      ],
      "metadata": {
        "id": "E7HqEB4wXR4M"
      }
    },
    {
      "cell_type": "code",
      "source": [
        "print(person['children'][-1])\n",
        "\n",
        "print(person['pets']['cat'])"
      ],
      "metadata": {
        "colab": {
          "base_uri": "https://localhost:8080/"
        },
        "id": "PjYS7MkvWsrW",
        "outputId": "104c0c56-3ab0-47f1-8e0b-bf290f1b8ecf"
      },
      "execution_count": 15,
      "outputs": [
        {
          "output_type": "stream",
          "name": "stdout",
          "text": [
            "Joey\n",
            "Sox\n"
          ]
        }
      ]
    },
    {
      "cell_type": "markdown",
      "source": [
        "Contoh ini menunjukkan fitur lain dari dict: nilai yang terkandung dalam dict tidak harus bertipe sama. Secara pribadi, beberapa nilai adalah string, satu adalah bilangan bulat, satu adalah daftar, dan satu lagi adalah dict.\n",
        "\n",
        "Sama seperti nilai dalam dict tidak harus bertipe sama, kuncinya juga tidak"
      ],
      "metadata": {
        "id": "XnNdmFLNXjsn"
      }
    },
    {
      "cell_type": "code",
      "source": [
        "foo = {42: 'aaa', 2.78: 'bbb', True: 'ccc'}\n",
        "print(foo)\n",
        "\n",
        "\n",
        "print(foo[42])\n",
        "\n",
        "print(foo[2.78])\n",
        "\n",
        "print(foo[True])"
      ],
      "metadata": {
        "colab": {
          "base_uri": "https://localhost:8080/"
        },
        "id": "v7EOZFClXW1t",
        "outputId": "c43ce6c2-9654-41a4-9580-814ae52fff1f"
      },
      "execution_count": 16,
      "outputs": [
        {
          "output_type": "stream",
          "name": "stdout",
          "text": [
            "{42: 'aaa', 2.78: 'bbb', True: 'ccc'}\n",
            "aaa\n",
            "bbb\n",
            "ccc\n"
          ]
        }
      ]
    },
    {
      "cell_type": "markdown",
      "source": [
        "Di sini, salah satu kuncinya adalah bilangan bulat, satu adalah float, dan satu lagi adalah Boolean. Tidak jelas bagaimana ini akan berguna, tetapi Anda tidak pernah tahu.\n",
        "\n",
        "Perhatikan betapa serbagunanya dict Python. Di sport_team, informasi yang sama (nama tim bisbol) disimpan untuk masing-masing dari beberapa lokasi geografis yang berbeda. orang, di sisi lain, menyimpan berbagai jenis data untuk satu orang.\n",
        "\n",
        "Anda dapat menggunakan dict untuk berbagai tujuan karena hanya ada sedikit batasan pada kunci dan nilai yang diizinkan."
      ],
      "metadata": {
        "id": "OvJwihd3YJ_0"
      }
    },
    {
      "cell_type": "markdown",
      "source": [
        "#Restriction in Key Dictionary"
      ],
      "metadata": {
        "id": "zRfnxjlbYdiH"
      }
    },
    {
      "cell_type": "code",
      "source": [
        "foo = {42: 'aaa', 2.78: 'bbb', True: 'ccc'}\n",
        "\n",
        "d = {int: 1, float: 2, bool: 3}\n",
        "\n",
        "d = {bin: 1, hex: 2, oct: 3}"
      ],
      "metadata": {
        "id": "hrvgMXR7YBom"
      },
      "execution_count": 17,
      "outputs": []
    },
    {
      "cell_type": "markdown",
      "source": [
        "no duplicate key"
      ],
      "metadata": {
        "id": "kHJAdPJ2a7D_"
      }
    },
    {
      "cell_type": "code",
      "source": [
        "sport_team = {\n",
        "    'Colorado' : 'Rockies',\n",
        "    'Boston'   : 'Red Sox',\n",
        "    'Minnesota': 'Timberwolves',\n",
        "    'Milwaukee': 'Brewers',\n",
        "    'Seattle'  : 'Mariners',\n",
        "    'Minnesota': 'Twins'\n",
        "}\n",
        "sport_team"
      ],
      "metadata": {
        "colab": {
          "base_uri": "https://localhost:8080/"
        },
        "id": "XDUo-6STZ2ul",
        "outputId": "85997f26-e878-4bd3-ebc9-cbe7bb70714b"
      },
      "execution_count": 18,
      "outputs": [
        {
          "output_type": "execute_result",
          "data": {
            "text/plain": [
              "{'Colorado': 'Rockies',\n",
              " 'Boston': 'Red Sox',\n",
              " 'Minnesota': 'Twins',\n",
              " 'Milwaukee': 'Brewers',\n",
              " 'Seattle': 'Mariners'}"
            ]
          },
          "metadata": {},
          "execution_count": 18
        }
      ]
    },
    {
      "cell_type": "markdown",
      "source": [
        "key dict must immutable"
      ],
      "metadata": {
        "id": "NGAvNReOa0-1"
      }
    },
    {
      "cell_type": "code",
      "source": [
        "d = {(1, 1): 'a', (1, 2): 'b', (2, 1): 'c', (2, 2): 'd'}\n",
        "d[(1,1)]\n",
        "\n",
        "d[(2,1)]\n"
      ],
      "metadata": {
        "colab": {
          "base_uri": "https://localhost:8080/",
          "height": 35
        },
        "id": "RopVlAMvaY8v",
        "outputId": "560c5ba4-d6b6-470e-ce38-536e8b78d553"
      },
      "execution_count": 19,
      "outputs": [
        {
          "output_type": "execute_result",
          "data": {
            "text/plain": [
              "'c'"
            ],
            "application/vnd.google.colaboratory.intrinsic+json": {
              "type": "string"
            }
          },
          "metadata": {},
          "execution_count": 19
        }
      ]
    },
    {
      "cell_type": "code",
      "source": [
        "d = {[1, 1]: 'a', [1, 2]: 'b', [2, 1]: 'c', [2, 2]: 'd'}"
      ],
      "metadata": {
        "colab": {
          "base_uri": "https://localhost:8080/",
          "height": 141
        },
        "id": "AysmKCVza31k",
        "outputId": "933da704-5922-4178-f7c1-5f9b0fc0be17"
      },
      "execution_count": 20,
      "outputs": [
        {
          "output_type": "error",
          "ename": "TypeError",
          "evalue": "unhashable type: 'list'",
          "traceback": [
            "\u001b[0;31m---------------------------------------------------------------------------\u001b[0m",
            "\u001b[0;31mTypeError\u001b[0m                                 Traceback (most recent call last)",
            "\u001b[0;32m/tmp/ipython-input-20-2252180456.py\u001b[0m in \u001b[0;36m<cell line: 0>\u001b[0;34m()\u001b[0m\n\u001b[0;32m----> 1\u001b[0;31m \u001b[0md\u001b[0m \u001b[0;34m=\u001b[0m \u001b[0;34m{\u001b[0m\u001b[0;34m[\u001b[0m\u001b[0;36m1\u001b[0m\u001b[0;34m,\u001b[0m \u001b[0;36m1\u001b[0m\u001b[0;34m]\u001b[0m\u001b[0;34m:\u001b[0m \u001b[0;34m'a'\u001b[0m\u001b[0;34m,\u001b[0m \u001b[0;34m[\u001b[0m\u001b[0;36m1\u001b[0m\u001b[0;34m,\u001b[0m \u001b[0;36m2\u001b[0m\u001b[0;34m]\u001b[0m\u001b[0;34m:\u001b[0m \u001b[0;34m'b'\u001b[0m\u001b[0;34m,\u001b[0m \u001b[0;34m[\u001b[0m\u001b[0;36m2\u001b[0m\u001b[0;34m,\u001b[0m \u001b[0;36m1\u001b[0m\u001b[0;34m]\u001b[0m\u001b[0;34m:\u001b[0m \u001b[0;34m'c'\u001b[0m\u001b[0;34m,\u001b[0m \u001b[0;34m[\u001b[0m\u001b[0;36m2\u001b[0m\u001b[0;34m,\u001b[0m \u001b[0;36m2\u001b[0m\u001b[0;34m]\u001b[0m\u001b[0;34m:\u001b[0m \u001b[0;34m'd'\u001b[0m\u001b[0;34m}\u001b[0m\u001b[0;34m\u001b[0m\u001b[0;34m\u001b[0m\u001b[0m\n\u001b[0m",
            "\u001b[0;31mTypeError\u001b[0m: unhashable type: 'list'"
          ]
        }
      ]
    },
    {
      "cell_type": "markdown",
      "source": [
        "#Restriction in Value Dictionary"
      ],
      "metadata": {
        "id": "IG4Ht01ubWck"
      }
    },
    {
      "cell_type": "code",
      "source": [
        "d = {0: 'a', 1: 'a', 2: 'a', 3: 'a'}\n",
        "d\n",
        "\n",
        "d[0] == d[1] == d[2]\n"
      ],
      "metadata": {
        "colab": {
          "base_uri": "https://localhost:8080/"
        },
        "id": "64Bd2cfWbKYU",
        "outputId": "9e349903-6d5f-4431-99f9-c4491819da7f"
      },
      "execution_count": 21,
      "outputs": [
        {
          "output_type": "execute_result",
          "data": {
            "text/plain": [
              "True"
            ]
          },
          "metadata": {},
          "execution_count": 21
        }
      ]
    },
    {
      "cell_type": "markdown",
      "source": [
        "# Built-in Dictionary Methods"
      ],
      "metadata": {
        "id": "D8QyeADoch3R"
      }
    },
    {
      "cell_type": "markdown",
      "source": [
        "d.clear()"
      ],
      "metadata": {
        "id": "vh0hGAgWdNzK"
      }
    },
    {
      "cell_type": "markdown",
      "source": [
        "d.clear() mengosongkan dict d dari semua pasangan nilai kunci"
      ],
      "metadata": {
        "id": "G5yb8bfmdSSC"
      }
    },
    {
      "cell_type": "code",
      "source": [
        "d = {'a': 10, 'b': 20, 'c': 30}\n",
        "print(d)\n",
        "\n",
        "\n",
        "d.clear()\n",
        "print(d)"
      ],
      "metadata": {
        "colab": {
          "base_uri": "https://localhost:8080/"
        },
        "id": "Es1bmfG_b2sB",
        "outputId": "8fb5a513-c604-455b-b27c-31f3f6ee9b9f"
      },
      "execution_count": 22,
      "outputs": [
        {
          "output_type": "stream",
          "name": "stdout",
          "text": [
            "{'a': 10, 'b': 20, 'c': 30}\n",
            "{}\n"
          ]
        }
      ]
    },
    {
      "cell_type": "markdown",
      "source": [
        "d.get(<key>[, <default>])\n",
        "\n",
        "Metode .get() dict Python menyediakan cara mudah untuk mendapatkan nilai kunci dari dict tanpa memeriksa terlebih dahulu apakah kunci itu ada, dan tanpa memunculkan kesalahan.\n",
        "\n",
        "d.get(<key>) mencari dict d untuk <key> dan mengembalikan nilai terkait jika ditemukan. Jika <key> tidak ditemukan, ia mengembalikan None"
      ],
      "metadata": {
        "id": "YWLhRH-8dhR9"
      }
    },
    {
      "cell_type": "code",
      "source": [
        "d = {'a': 10, 'b': 20, 'c': 30}\n",
        "\n",
        "print(d.get('b'))\n",
        "\n",
        "print(d.get('z'))\n"
      ],
      "metadata": {
        "colab": {
          "base_uri": "https://localhost:8080/"
        },
        "id": "lRBdX_fBdZ6j",
        "outputId": "a7eca2ca-b0af-4178-b089-67a08fee0f30"
      },
      "execution_count": 23,
      "outputs": [
        {
          "output_type": "stream",
          "name": "stdout",
          "text": [
            "20\n",
            "None\n"
          ]
        }
      ]
    },
    {
      "cell_type": "markdown",
      "source": [
        "d.items()"
      ],
      "metadata": {
        "id": "Y-5U8xPCdy0d"
      }
    },
    {
      "cell_type": "markdown",
      "source": [
        "d.items() mengembalikan daftar tupel yang berisi pasangan nilai kunci di d. Item pertama di setiap tuple adalah kuncinya, dan item kedua adalah nilai kuncinya"
      ],
      "metadata": {
        "id": "moCXr-QYd2_F"
      }
    },
    {
      "cell_type": "code",
      "source": [
        "d = {'a': 10, 'b': 20, 'c': 30}\n",
        "d\n",
        "\n",
        "\n",
        "list(d.items())\n",
        "\n",
        "list(d.items())[1][0]\n",
        "\n",
        "list(d.items())[1][1]\n"
      ],
      "metadata": {
        "colab": {
          "base_uri": "https://localhost:8080/"
        },
        "id": "EDNX-zaWdo7_",
        "outputId": "772c9152-74da-484b-a55c-61d0a4339752"
      },
      "execution_count": 24,
      "outputs": [
        {
          "output_type": "execute_result",
          "data": {
            "text/plain": [
              "20"
            ]
          },
          "metadata": {},
          "execution_count": 24
        }
      ]
    },
    {
      "cell_type": "markdown",
      "source": [
        "d.keys()"
      ],
      "metadata": {
        "id": "8JzLx0aI3FoG"
      }
    },
    {
      "cell_type": "markdown",
      "source": [
        "d.keys() mengembalikan daftar semua kunci di d"
      ],
      "metadata": {
        "id": "2B1OrzVE3MYe"
      }
    },
    {
      "cell_type": "code",
      "source": [
        "d = {'a': 10, 'b': 20, 'c': 30}\n",
        "d\n",
        "\n",
        "\n",
        "list(d.keys())\n"
      ],
      "metadata": {
        "colab": {
          "base_uri": "https://localhost:8080/"
        },
        "id": "lHrAmKcQ3Did",
        "outputId": "0b3003bd-69d7-430a-d8dd-047baa5a9ffd"
      },
      "execution_count": 25,
      "outputs": [
        {
          "output_type": "execute_result",
          "data": {
            "text/plain": [
              "['a', 'b', 'c']"
            ]
          },
          "metadata": {},
          "execution_count": 25
        }
      ]
    },
    {
      "cell_type": "markdown",
      "source": [
        "d.update()"
      ],
      "metadata": {
        "id": "k60R1u7R6IZ8"
      }
    },
    {
      "cell_type": "code",
      "source": [
        "d1 = {'a': 10, 'b': 20, 'c': 30}\n",
        "d2 = {'b': 200, 'd': 400}\n",
        "\n",
        "d1.update(d2)\n",
        "d1"
      ],
      "metadata": {
        "colab": {
          "base_uri": "https://localhost:8080/"
        },
        "id": "rcwt6vcN3Qbg",
        "outputId": "2acfc23e-8e53-4d19-a2c9-30b45e0760cb"
      },
      "execution_count": 26,
      "outputs": [
        {
          "output_type": "execute_result",
          "data": {
            "text/plain": [
              "{'a': 10, 'b': 200, 'c': 30, 'd': 400}"
            ]
          },
          "metadata": {},
          "execution_count": 26
        }
      ]
    },
    {
      "cell_type": "markdown",
      "source": [
        "d.pop()"
      ],
      "metadata": {
        "id": "a-T6KQFX6Scx"
      }
    },
    {
      "cell_type": "code",
      "source": [
        "d = {'a': 10, 'b': 20, 'c': 30}\n",
        "\n",
        "d.pop('b')\n",
        "\n",
        "d"
      ],
      "metadata": {
        "colab": {
          "base_uri": "https://localhost:8080/"
        },
        "id": "QinJCyLR6Mlw",
        "outputId": "07f57fee-6662-4c76-bde1-6d730aa4bef6"
      },
      "execution_count": 27,
      "outputs": [
        {
          "output_type": "execute_result",
          "data": {
            "text/plain": [
              "{'a': 10, 'c': 30}"
            ]
          },
          "metadata": {},
          "execution_count": 27
        }
      ]
    },
    {
      "cell_type": "markdown",
      "source": [
        "d.popitem()"
      ],
      "metadata": {
        "id": "T3IXRr9m6XxR"
      }
    },
    {
      "cell_type": "code",
      "source": [
        "d = {'a': 10, 'b': 20, 'c': 30}\n",
        "\n",
        "d.popitem()\n",
        "\n",
        "print(d)\n",
        "\n",
        "\n",
        "d.popitem()\n",
        "\n",
        "print(d)"
      ],
      "metadata": {
        "colab": {
          "base_uri": "https://localhost:8080/"
        },
        "id": "sY9OLHXw6VnA",
        "outputId": "6058951e-b618-4ccf-bb56-ed09e4e8df39"
      },
      "execution_count": 28,
      "outputs": [
        {
          "output_type": "stream",
          "name": "stdout",
          "text": [
            "{'a': 10, 'b': 20}\n",
            "{'a': 10}\n"
          ]
        }
      ]
    },
    {
      "cell_type": "markdown",
      "source": [
        "#Thank you"
      ],
      "metadata": {
        "id": "WoLG_rdj7l6C"
      }
    },
    {
      "cell_type": "code",
      "source": [],
      "metadata": {
        "id": "4WqzGXHk6drA"
      },
      "execution_count": null,
      "outputs": []
    }
  ]
}
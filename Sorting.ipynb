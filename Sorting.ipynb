{
  "nbformat": 4,
  "nbformat_minor": 0,
  "metadata": {
    "colab": {
      "provenance": [],
      "include_colab_link": true
    },
    "kernelspec": {
      "name": "python3",
      "display_name": "Python 3"
    },
    "language_info": {
      "name": "python"
    }
  },
  "cells": [
    {
      "cell_type": "markdown",
      "metadata": {
        "id": "view-in-github",
        "colab_type": "text"
      },
      "source": [
        "<a href=\"https://colab.research.google.com/github/davidivan13/Python-Fundamental/blob/main/Sorting.ipynb\" target=\"_parent\"><img src=\"https://colab.research.google.com/assets/colab-badge.svg\" alt=\"Open In Colab\"/></a>"
      ]
    },
    {
      "cell_type": "markdown",
      "source": [
        "# Pengurutan Sederhana"
      ],
      "metadata": {
        "id": "TF0pnf9Lg0oP"
      }
    },
    {
      "cell_type": "markdown",
      "source": [
        "Menggunakan fungsi sorted() untuk mengurutkan daftar bilangan."
      ],
      "metadata": {
        "id": "Sa5UaxHtg70O"
      }
    },
    {
      "cell_type": "code",
      "execution_count": 1,
      "metadata": {
        "colab": {
          "base_uri": "https://localhost:8080/"
        },
        "id": "Z83jXNE1e152",
        "outputId": "895e3325-91e6-4033-f51e-d7bd403f815b"
      },
      "outputs": [
        {
          "output_type": "stream",
          "name": "stdout",
          "text": [
            "[1, 1, 2, 3, 4, 5, 5, 6, 9]\n"
          ]
        }
      ],
      "source": [
        "numbers = [3, 1, 4, 1, 5, 9, 2, 6, 5]\n",
        "sorted_numbers = sorted(numbers)\n",
        "print(sorted_numbers)\n"
      ]
    },
    {
      "cell_type": "markdown",
      "source": [
        "Pengurutan dengan Kriteria Kustom: Menggunakan argumen key untuk mengurutkan daftar berdasarkan panjang string."
      ],
      "metadata": {
        "id": "NY0xJb7cg9Hl"
      }
    },
    {
      "cell_type": "code",
      "source": [
        "words = ['apple', 'banana', 'grape', 'kiwi', 'orange']\n",
        "sorted_words = sorted(words, key=len)\n",
        "print(sorted_words)\n"
      ],
      "metadata": {
        "colab": {
          "base_uri": "https://localhost:8080/"
        },
        "id": "e9aNX4Bng3Sb",
        "outputId": "f7c049a4-84a9-41e2-ed0b-11acb594d2bc"
      },
      "execution_count": 2,
      "outputs": [
        {
          "output_type": "stream",
          "name": "stdout",
          "text": [
            "['kiwi', 'apple', 'grape', 'banana', 'orange']\n"
          ]
        }
      ]
    },
    {
      "cell_type": "markdown",
      "source": [
        "Pengurutan dengan Fungsi Lambda: Menggunakan fungsi lambda untuk mengurutkan daftar berdasarkan jumlah vokal dalam kata."
      ],
      "metadata": {
        "id": "7yJTTCN7hJ72"
      }
    },
    {
      "cell_type": "code",
      "source": [
        "words = ['apple', 'banana', 'grape', 'kiwi', 'orange']\n",
        "sorted_words = sorted(words, key=lambda word: sum(1 for char in word if char in 'aeiou'))\n",
        "print(sorted_words)\n"
      ],
      "metadata": {
        "colab": {
          "base_uri": "https://localhost:8080/"
        },
        "id": "BbiE9QZShF22",
        "outputId": "5a63cad8-7946-42cc-c4e3-58365722b8a1"
      },
      "execution_count": 3,
      "outputs": [
        {
          "output_type": "stream",
          "name": "stdout",
          "text": [
            "['apple', 'grape', 'kiwi', 'banana', 'orange']\n"
          ]
        }
      ]
    },
    {
      "cell_type": "markdown",
      "source": [
        "# Other Sorting algorithm"
      ],
      "metadata": {
        "id": "D0Ink4G9hhNO"
      }
    },
    {
      "cell_type": "markdown",
      "source": [
        "## bubble sort"
      ],
      "metadata": {
        "id": "fT1CZD2miHBl"
      }
    },
    {
      "cell_type": "code",
      "source": [
        "def bubble_sort(arr):\n",
        "    n = len(arr)\n",
        "    for i in range(n):\n",
        "        for j in range(0, n-i-1):\n",
        "            if arr[j] > arr[j+1]:\n",
        "                arr[j], arr[j+1] = arr[j+1], arr[j]\n",
        "    return arr\n",
        "\n",
        "# Contoh penggunaan\n",
        "arr = [64, 34, 25, 12, 22, 11, 90]\n",
        "sorted_arr = bubble_sort(arr)\n",
        "print(\"Sorted array:\", sorted_arr)\n"
      ],
      "metadata": {
        "colab": {
          "base_uri": "https://localhost:8080/"
        },
        "id": "AT11r03ZhdSk",
        "outputId": "f8d831ea-11f2-48fe-c379-c4c8f7768823"
      },
      "execution_count": 4,
      "outputs": [
        {
          "output_type": "stream",
          "name": "stdout",
          "text": [
            "Sorted array: [11, 12, 22, 25, 34, 64, 90]\n"
          ]
        }
      ]
    },
    {
      "cell_type": "markdown",
      "source": [
        "## selection sort"
      ],
      "metadata": {
        "id": "t5j47pwJiL8s"
      }
    },
    {
      "cell_type": "code",
      "source": [
        "def selection_sort(arr):\n",
        "    n = len(arr)\n",
        "    for i in range(n):\n",
        "        min_idx = i\n",
        "        for j in range(i+1, n):\n",
        "            if arr[j] < arr[min_idx]:\n",
        "                min_idx = j\n",
        "        arr[i], arr[min_idx] = arr[min_idx], arr[i]\n",
        "    return arr\n",
        "\n",
        "# Contoh penggunaan\n",
        "arr = [64, 34, 25, 12, 22, 11, 90]\n",
        "sorted_arr = selection_sort(arr)\n",
        "print(\"Sorted array:\", sorted_arr)\n"
      ],
      "metadata": {
        "colab": {
          "base_uri": "https://localhost:8080/"
        },
        "id": "z9REweixhN5c",
        "outputId": "cef883fb-1a98-45cc-acb1-12bd8398275b"
      },
      "execution_count": 5,
      "outputs": [
        {
          "output_type": "stream",
          "name": "stdout",
          "text": [
            "Sorted array: [11, 12, 22, 25, 34, 64, 90]\n"
          ]
        }
      ]
    },
    {
      "cell_type": "markdown",
      "source": [
        "## insertion sort"
      ],
      "metadata": {
        "id": "PXCNMOvmiQUt"
      }
    },
    {
      "cell_type": "code",
      "source": [
        "def insertion_sort(arr):\n",
        "    for i in range(1, len(arr)):\n",
        "        key = arr[i]\n",
        "        j = i-1\n",
        "        while j >= 0 and key < arr[j]:\n",
        "            arr[j+1] = arr[j]\n",
        "            j -= 1\n",
        "        arr[j+1] = key\n",
        "    return arr\n",
        "\n",
        "# Contoh penggunaan\n",
        "arr = [64, 34, 25, 12, 22, 11, 90]\n",
        "sorted_arr = insertion_sort(arr)\n",
        "print(\"Sorted array:\", sorted_arr)\n"
      ],
      "metadata": {
        "colab": {
          "base_uri": "https://localhost:8080/"
        },
        "id": "ucY-JGsHiN2u",
        "outputId": "378ab8bd-ac90-4ea8-a91b-95d4eaf55172"
      },
      "execution_count": 6,
      "outputs": [
        {
          "output_type": "stream",
          "name": "stdout",
          "text": [
            "Sorted array: [11, 12, 22, 25, 34, 64, 90]\n"
          ]
        }
      ]
    },
    {
      "cell_type": "markdown",
      "source": [
        "## merge sort"
      ],
      "metadata": {
        "id": "HROf_9-diaWm"
      }
    },
    {
      "cell_type": "code",
      "source": [
        "def merge_sort(arr):\n",
        "    if len(arr) > 1:\n",
        "        mid = len(arr) // 2\n",
        "        L = arr[:mid]\n",
        "        R = arr[mid:]\n",
        "\n",
        "        merge_sort(L)\n",
        "        merge_sort(R)\n",
        "\n",
        "        i = j = k = 0\n",
        "\n",
        "        while i < len(L) and j < len(R):\n",
        "            if L[i] < R[j]:\n",
        "                arr[k] = L[i]\n",
        "                i += 1\n",
        "            else:\n",
        "                arr[k] = R[j]\n",
        "                j += 1\n",
        "            k += 1\n",
        "\n",
        "        while i < len(L):\n",
        "            arr[k] = L[i]\n",
        "            i += 1\n",
        "            k += 1\n",
        "\n",
        "        while j < len(R):\n",
        "            arr[k] = R[j]\n",
        "            j += 1\n",
        "            k += 1\n",
        "\n",
        "# Contoh penggunaan\n",
        "arr = [64, 34, 25, 12, 22, 11, 90]\n",
        "merge_sort(arr)\n",
        "print(\"Sorted array:\", arr)\n"
      ],
      "metadata": {
        "colab": {
          "base_uri": "https://localhost:8080/"
        },
        "id": "Vs3RB26GiSXo",
        "outputId": "8e12f720-a8b8-4ada-e29e-d510972fce5a"
      },
      "execution_count": 7,
      "outputs": [
        {
          "output_type": "stream",
          "name": "stdout",
          "text": [
            "Sorted array: [11, 12, 22, 25, 34, 64, 90]\n"
          ]
        }
      ]
    },
    {
      "cell_type": "markdown",
      "source": [
        "## quick sort"
      ],
      "metadata": {
        "id": "MXtuAQtRieUm"
      }
    },
    {
      "cell_type": "code",
      "source": [
        "def quick_sort(arr):\n",
        "    if len(arr) <= 1:\n",
        "        return arr\n",
        "    else:\n",
        "        pivot = arr[0]\n",
        "        less_than_pivot = [x for x in arr[1:] if x <= pivot]\n",
        "        greater_than_pivot = [x for x in arr[1:] if x > pivot]\n",
        "        return quick_sort(less_than_pivot) + [pivot] + quick_sort(greater_than_pivot)\n",
        "\n",
        "# Contoh penggunaan\n",
        "arr = [64, 34, 25, 12, 22, 11, 90]\n",
        "sorted_arr = quick_sort(arr)\n",
        "print(\"Sorted array:\", sorted_arr)\n"
      ],
      "metadata": {
        "colab": {
          "base_uri": "https://localhost:8080/"
        },
        "id": "3u4NCBhCibxF",
        "outputId": "470f3a32-6b9c-4119-d951-0f295c59a1e5"
      },
      "execution_count": 8,
      "outputs": [
        {
          "output_type": "stream",
          "name": "stdout",
          "text": [
            "Sorted array: [11, 12, 22, 25, 34, 64, 90]\n"
          ]
        }
      ]
    },
    {
      "cell_type": "code",
      "source": [],
      "metadata": {
        "id": "m2PYHTVzihCS"
      },
      "execution_count": 8,
      "outputs": []
    }
  ]
}
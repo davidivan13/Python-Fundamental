{
  "nbformat": 4,
  "nbformat_minor": 0,
  "metadata": {
    "colab": {
      "provenance": [],
      "include_colab_link": true
    },
    "kernelspec": {
      "name": "python3",
      "display_name": "Python 3"
    },
    "language_info": {
      "name": "python"
    }
  },
  "cells": [
    {
      "cell_type": "markdown",
      "metadata": {
        "id": "view-in-github",
        "colab_type": "text"
      },
      "source": [
        "<a href=\"https://colab.research.google.com/github/davidivan13/Python-Fundamental/blob/main/Decorators_and_Context_Managers_in_Python.ipynb\" target=\"_parent\"><img src=\"https://colab.research.google.com/assets/colab-badge.svg\" alt=\"Open In Colab\"/></a>"
      ]
    },
    {
      "cell_type": "markdown",
      "source": [
        "# Simple\n"
      ],
      "metadata": {
        "id": "3gtK-BGXQgh4"
      }
    },
    {
      "cell_type": "markdown",
      "source": [
        "## contoh 1"
      ],
      "metadata": {
        "id": "fXVTzM7iQkl3"
      }
    },
    {
      "cell_type": "markdown",
      "source": [
        "Timing Function Execution with a Decorator"
      ],
      "metadata": {
        "id": "3JLQ045xQ6h_"
      }
    },
    {
      "cell_type": "code",
      "execution_count": 1,
      "metadata": {
        "id": "-Ikx2mt-MuAf",
        "colab": {
          "base_uri": "https://localhost:8080/"
        },
        "outputId": "8954c6f4-d38a-4814-b990-8e6ca83594b1"
      },
      "outputs": [
        {
          "output_type": "stream",
          "name": "stdout",
          "text": [
            "Function sample_function took 7.152557373046875e-07 seconds to execute.\n"
          ]
        },
        {
          "output_type": "execute_result",
          "data": {
            "text/plain": [
              "250000"
            ]
          },
          "metadata": {},
          "execution_count": 1
        }
      ],
      "source": [
        "import time\n",
        "\n",
        "def timing_decorator(func):\n",
        "    def wrapper(*args, **kwargs):\n",
        "        start_time = time.time()\n",
        "        result = func(*args, **kwargs)\n",
        "        end_time = time.time()\n",
        "        print(f\"Function {func.__name__} took {end_time - start_time} seconds to execute.\")\n",
        "        return result\n",
        "    return wrapper\n",
        "\n",
        "@timing_decorator\n",
        "def sample_function():\n",
        "    return 500 ** 2\n",
        "\n",
        "sample_function()\n"
      ]
    },
    {
      "cell_type": "markdown",
      "source": [
        "## contoh 2"
      ],
      "metadata": {
        "id": "-AsgxIWPQtcf"
      }
    },
    {
      "cell_type": "markdown",
      "source": [
        "Logging Function Execution with a Decorator"
      ],
      "metadata": {
        "id": "24tCW-LyQ3_H"
      }
    },
    {
      "cell_type": "code",
      "source": [
        "def log_decorator(func):\n",
        "    def wrapper(*args, **kwargs):\n",
        "        print(f\"Calling {func.__name__} with args: {args}, kwargs: {kwargs}\")\n",
        "        result = func(*args, **kwargs)\n",
        "        print(f\"{func.__name__} returned {result}\")\n",
        "        return result\n",
        "    return wrapper\n",
        "\n",
        "@log_decorator\n",
        "def add(a, b):\n",
        "    return a + b\n",
        "\n",
        "results = add(2, 3)\n"
      ],
      "metadata": {
        "id": "ouPk0znxQu04",
        "colab": {
          "base_uri": "https://localhost:8080/"
        },
        "outputId": "bc8406f0-8d85-401e-d8d1-6b2c4305cbe9"
      },
      "execution_count": 2,
      "outputs": [
        {
          "output_type": "stream",
          "name": "stdout",
          "text": [
            "Calling add with args: (2, 3), kwargs: {}\n",
            "add returned 5\n"
          ]
        }
      ]
    },
    {
      "cell_type": "code",
      "source": [
        "results"
      ],
      "metadata": {
        "colab": {
          "base_uri": "https://localhost:8080/"
        },
        "id": "OPCumzMM2zUR",
        "outputId": "64c21bb6-acd1-40ea-c6b5-e8ddc529560f"
      },
      "execution_count": 3,
      "outputs": [
        {
          "output_type": "execute_result",
          "data": {
            "text/plain": [
              "5"
            ]
          },
          "metadata": {},
          "execution_count": 3
        }
      ]
    },
    {
      "cell_type": "markdown",
      "source": [
        "# Intermediate"
      ],
      "metadata": {
        "id": "olHloADAQ7s3"
      }
    },
    {
      "cell_type": "markdown",
      "source": [
        "## contoh 1"
      ],
      "metadata": {
        "id": "GciwF0IQQ__f"
      }
    },
    {
      "cell_type": "markdown",
      "source": [
        " Timing Code Blocks with a Context Manager"
      ],
      "metadata": {
        "id": "bTxi07c1RC2n"
      }
    },
    {
      "cell_type": "code",
      "source": [
        "import time\n",
        "from contextlib import contextmanager\n",
        "\n",
        "@contextmanager\n",
        "def timer_context_manager():\n",
        "    start_time = time.time()\n",
        "    yield\n",
        "    end_time = time.time()\n",
        "    print(f\"Code block took {end_time - start_time} seconds to run.\")\n",
        "\n",
        "with timer_context_manager():\n",
        "    time.sleep(3)\n"
      ],
      "metadata": {
        "id": "wE-hIOFWQ9hM",
        "colab": {
          "base_uri": "https://localhost:8080/"
        },
        "outputId": "2b5429e2-ede7-4463-cf8c-5747ff7515e5"
      },
      "execution_count": 4,
      "outputs": [
        {
          "output_type": "stream",
          "name": "stdout",
          "text": [
            "Code block took 3.000135660171509 seconds to run.\n"
          ]
        }
      ]
    },
    {
      "cell_type": "markdown",
      "source": [
        "## contoh 2"
      ],
      "metadata": {
        "id": "lATq4ukrRLEH"
      }
    },
    {
      "cell_type": "markdown",
      "source": [
        "Custom Context Manager for Resource Management"
      ],
      "metadata": {
        "id": "nRo-9d81RMpu"
      }
    },
    {
      "cell_type": "code",
      "source": [
        "from contextlib import contextmanager\n",
        "\n",
        "@contextmanager\n",
        "def file_opener(filename, mode):\n",
        "    try:\n",
        "        file = open(filename, mode)\n",
        "        yield file\n",
        "    finally:\n",
        "        file.close()\n",
        "\n",
        "with file_opener(\"sample.txt\", \"w\") as file:\n",
        "    file.write(\"Hello, Context Managers!\")\n"
      ],
      "metadata": {
        "id": "e5PVPf-uRML8"
      },
      "execution_count": 5,
      "outputs": []
    },
    {
      "cell_type": "markdown",
      "source": [
        "# Advanced"
      ],
      "metadata": {
        "id": "Jn1LWdwQRV6u"
      }
    },
    {
      "cell_type": "markdown",
      "source": [
        "## contoh 1"
      ],
      "metadata": {
        "id": "JCU8OuesRYWm"
      }
    },
    {
      "cell_type": "markdown",
      "source": [
        " Advanced Logging Decorator with Function Signature"
      ],
      "metadata": {
        "id": "fn8hFR9_RahX"
      }
    },
    {
      "cell_type": "code",
      "source": [
        "def advanced_log_decorator(func):\n",
        "    def wrapper(*args, **kwargs):\n",
        "        args_str = ', '.join([str(arg) for arg in args])\n",
        "        kwargs_str = ', '.join([f\"{key}={value}\" for key, value in kwargs.items()])\n",
        "        all_args = ', '.join(filter(None, [args_str, kwargs_str]))\n",
        "\n",
        "        result = func(*args, **kwargs)\n",
        "        print(f\"Function {func.__name__}({all_args}) returned {result}\")\n",
        "        return result\n",
        "    return wrapper\n",
        "\n",
        "@advanced_log_decorator\n",
        "def multiply(x, y):\n",
        "    return x * y\n",
        "\n",
        "multiply(4, 5)\n"
      ],
      "metadata": {
        "colab": {
          "base_uri": "https://localhost:8080/"
        },
        "id": "8Y3ZQkATRX0p",
        "outputId": "3514dac6-0921-4565-cf13-263d786dd27c"
      },
      "execution_count": 6,
      "outputs": [
        {
          "output_type": "stream",
          "name": "stdout",
          "text": [
            "Function multiply(4, 5) returned 20\n"
          ]
        },
        {
          "output_type": "execute_result",
          "data": {
            "text/plain": [
              "20"
            ]
          },
          "metadata": {},
          "execution_count": 6
        }
      ]
    },
    {
      "cell_type": "markdown",
      "source": [
        "## contoh 2"
      ],
      "metadata": {
        "id": "J7dEFUCbRjRv"
      }
    },
    {
      "cell_type": "markdown",
      "source": [
        "Advanced Context Manager for Exception Handling"
      ],
      "metadata": {
        "id": "NETI1IYMRlMX"
      }
    },
    {
      "cell_type": "code",
      "source": [
        "from contextlib import contextmanager\n",
        "\n",
        "@contextmanager\n",
        "def exception_handler(exception_type):\n",
        "    try:\n",
        "        yield\n",
        "    except exception_type as e:\n",
        "        print(f\"Caught exception: {e}\")\n",
        "\n",
        "with exception_handler(ZeroDivisionError):\n",
        "    result = 10 / 0\n"
      ],
      "metadata": {
        "id": "8dA9I0wTRksq",
        "colab": {
          "base_uri": "https://localhost:8080/"
        },
        "outputId": "b1083f58-f259-411b-9e48-07816922f3d9"
      },
      "execution_count": 7,
      "outputs": [
        {
          "output_type": "stream",
          "name": "stdout",
          "text": [
            "Caught exception: division by zero\n"
          ]
        }
      ]
    },
    {
      "cell_type": "code",
      "source": [],
      "metadata": {
        "id": "DozIPKzuSFCC"
      },
      "execution_count": 7,
      "outputs": []
    }
  ]
}
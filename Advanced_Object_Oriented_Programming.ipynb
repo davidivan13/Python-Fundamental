{
  "nbformat": 4,
  "nbformat_minor": 0,
  "metadata": {
    "colab": {
      "provenance": [],
      "include_colab_link": true
    },
    "kernelspec": {
      "name": "python3",
      "display_name": "Python 3"
    },
    "language_info": {
      "name": "python"
    }
  },
  "cells": [
    {
      "cell_type": "markdown",
      "metadata": {
        "id": "view-in-github",
        "colab_type": "text"
      },
      "source": [
        "<a href=\"https://colab.research.google.com/github/davidivan13/Python-Fundamental/blob/main/Advanced_Object_Oriented_Programming.ipynb\" target=\"_parent\"><img src=\"https://colab.research.google.com/assets/colab-badge.svg\" alt=\"Open In Colab\"/></a>"
      ]
    },
    {
      "cell_type": "markdown",
      "source": [
        "# Simple\n"
      ],
      "metadata": {
        "id": "3gtK-BGXQgh4"
      }
    },
    {
      "cell_type": "markdown",
      "source": [
        "## contoh 1"
      ],
      "metadata": {
        "id": "fXVTzM7iQkl3"
      }
    },
    {
      "cell_type": "markdown",
      "source": [
        "Dalam contoh ini, kita membuat kelas Library untuk menciptakan objek perpustakaan dan mengelola buku-buku yang ada."
      ],
      "metadata": {
        "id": "fetFboxC28aO"
      }
    },
    {
      "cell_type": "code",
      "execution_count": 1,
      "metadata": {
        "id": "-Ikx2mt-MuAf",
        "colab": {
          "base_uri": "https://localhost:8080/"
        },
        "outputId": "1578cda8-ab11-489e-fad1-c2e1fcf27245"
      },
      "outputs": [
        {
          "output_type": "stream",
          "name": "stdout",
          "text": [
            "Daftar Buku di Library A : ['Book 2']\n",
            "Daftar Anggota: ['Member 1']\n",
            "Book 1 berhasil dipinjam oleh Member 1.\n"
          ]
        }
      ],
      "source": [
        "class Library:\n",
        "    def __init__(self, name):\n",
        "        self.name = name\n",
        "        self.books = []\n",
        "        self.members = []\n",
        "\n",
        "    def add_book(self, book):\n",
        "        self.books.append(book)\n",
        "\n",
        "    def add_member(self, member):\n",
        "        self.members.append(member)\n",
        "\n",
        "    def lend_book(self, book, member):\n",
        "        if book in self.books and member in self.members:\n",
        "            self.books.remove(book)\n",
        "            return f\"{book} berhasil dipinjam oleh {member}.\"\n",
        "        else:\n",
        "            return \"Buku tidak tersedia atau anggota tidak terdaftar.\"\n",
        "\n",
        "# Contoh Penggunaan\n",
        "my_library = Library(\"Library A\")\n",
        "book1 = \"Book 1\"\n",
        "book2 = \"Book 2\"\n",
        "member1 = \"Member 1\"\n",
        "\n",
        "my_library.add_book(book1)\n",
        "my_library.add_book(book2)\n",
        "my_library.add_member(member1)\n",
        "lending_result = my_library.lend_book(book1, member1)\n",
        "\n",
        "print(\"Daftar Buku di\", my_library.name, \":\", my_library.books)\n",
        "print(\"Daftar Anggota:\", my_library.members)\n",
        "print(lending_result)\n"
      ]
    },
    {
      "cell_type": "markdown",
      "source": [
        "Penjelasan: Kelas Library menciptakan objek perpustakaan dan mengelola daftar buku. Kami menggunakan objek my_library untuk menambahkan dan menghapus buku."
      ],
      "metadata": {
        "id": "sJp8E9vLIEbo"
      }
    },
    {
      "cell_type": "markdown",
      "source": [
        "## contoh 2"
      ],
      "metadata": {
        "id": "BmoboK5IYtas"
      }
    },
    {
      "cell_type": "markdown",
      "source": [
        "Membuat kelas BankAccount yang mencakup atribut seperti saldo dan metode untuk setoran dan penarikan."
      ],
      "metadata": {
        "id": "91hM4kn5gLw6"
      }
    },
    {
      "cell_type": "code",
      "source": [
        "class BankAccount:\n",
        "    def __init__(self, balance=0):\n",
        "        self.balance = balance\n",
        "\n",
        "    def deposit(self, amount):\n",
        "        self.balance += amount\n",
        "\n",
        "    def withdraw(self, amount):\n",
        "        if amount <= self.balance:\n",
        "            self.balance -= amount\n",
        "            return amount\n",
        "        else:\n",
        "            return \"Saldo tidak mencukupi.\"\n",
        "\n",
        "    def transfer(self, amount, recipient):\n",
        "        withdrawal = self.withdraw(amount)\n",
        "        if isinstance(withdrawal, int):\n",
        "            recipient.deposit(withdrawal)\n",
        "            return f\"{amount} berhasil ditransfer.\"\n",
        "        else:\n",
        "            return \"Transfer gagal.\"\n",
        "\n",
        "class BankCustomer:\n",
        "    def __init__(self, name):\n",
        "        self.name = name\n",
        "        self.account = BankAccount()\n",
        "\n",
        "# Contoh Penggunaan\n",
        "customer1 = BankCustomer(\"Alice\")\n",
        "customer2 = BankCustomer(\"Bob\")\n",
        "\n",
        "customer1.account.deposit(1000)\n",
        "transfer_result = customer1.account.transfer(500, customer2.account)\n",
        "\n",
        "print(f\"Saldo Akun {customer1.name}:\", customer1.account.balance)\n",
        "print(f\"Saldo Akun {customer2.name}:\", customer2.account.balance)\n",
        "print(transfer_result)\n"
      ],
      "metadata": {
        "id": "yLLfsDdyYvc0",
        "colab": {
          "base_uri": "https://localhost:8080/"
        },
        "outputId": "15ef2b02-e46a-488b-cef4-9302ffb69b55"
      },
      "execution_count": 2,
      "outputs": [
        {
          "output_type": "stream",
          "name": "stdout",
          "text": [
            "Saldo Akun Alice: 500\n",
            "Saldo Akun Bob: 500\n",
            "500 berhasil ditransfer.\n"
          ]
        }
      ]
    },
    {
      "cell_type": "markdown",
      "source": [
        "# Intermediate"
      ],
      "metadata": {
        "id": "olHloADAQ7s3"
      }
    },
    {
      "cell_type": "markdown",
      "source": [
        "## contoh 1"
      ],
      "metadata": {
        "id": "GciwF0IQQ__f"
      }
    },
    {
      "cell_type": "markdown",
      "source": [
        "Dalam contoh ini, kita mengimplementasikan variasi bentuk dengan atribut dan metode tambahan."
      ],
      "metadata": {
        "id": "bTxi07c1RC2n"
      }
    },
    {
      "cell_type": "code",
      "source": [
        "from abc import ABC, abstractmethod\n",
        "\n",
        "class Shape(ABC):\n",
        "    def __init__(self, color=\"white\"):\n",
        "        self.color = color\n",
        "\n",
        "    @abstractmethod\n",
        "    def area(self):\n",
        "        pass\n",
        "\n",
        "class Circle(Shape):\n",
        "    def __init__(self, radius, color=\"white\"):\n",
        "        super().__init__(color)\n",
        "        self.radius = radius\n",
        "\n",
        "    def area(self):\n",
        "        return 3.14 * self.radius * self.radius\n",
        "\n",
        "class Rectangle(Shape):\n",
        "    def __init__(self, width, height, color=\"white\", rotation=0):\n",
        "        super().__init__(color)\n",
        "        self.width = width\n",
        "        self.height = height\n",
        "        self.rotation = rotation\n",
        "\n",
        "    def area(self):\n",
        "        return self.width * self.height\n",
        "\n",
        "# Contoh Penggunaan\n",
        "red_circle = Circle(5, \"red\")\n",
        "rotated_rectangle = Rectangle(4, 6, \"blue\", 45)\n",
        "\n",
        "print(\"Luas Lingkaran:\", red_circle.area())\n",
        "print(\"Luas Persegi Panjang:\", rotated_rectangle.area())\n",
        "print(\"Warna Lingkaran:\", red_circle.color)\n",
        "print(\"Rotasi Persegi Panjang:\", rotated_rectangle.rotation)\n"
      ],
      "metadata": {
        "id": "wE-hIOFWQ9hM",
        "colab": {
          "base_uri": "https://localhost:8080/"
        },
        "outputId": "83646196-4acb-4464-c932-37dcead140f7"
      },
      "execution_count": 3,
      "outputs": [
        {
          "output_type": "stream",
          "name": "stdout",
          "text": [
            "Luas Lingkaran: 78.5\n",
            "Luas Persegi Panjang: 24\n",
            "Warna Lingkaran: red\n",
            "Rotasi Persegi Panjang: 45\n"
          ]
        }
      ]
    },
    {
      "cell_type": "markdown",
      "source": [
        "kelas Shape secara eksplisit ditandai sebagai kelas dasar abstrak (ABC), dan metode area ditandai sebagai metode abstrak dengan dekorator @abstractmethod. Hal ini memaksa bahwa setiap subclass dari Shape harus mengimplementasikan metode area. Ini mengilustrasikan konsep kelas abstrak dan polimorfisme ketika memanggil metode area pada objek bentuk yang berbeda."
      ],
      "metadata": {
        "id": "ILV92Au7-aLU"
      }
    },
    {
      "cell_type": "markdown",
      "source": [
        "## contoh 2"
      ],
      "metadata": {
        "id": "y6yo2xt8lhw5"
      }
    },
    {
      "cell_type": "markdown",
      "source": [
        "Menerapkan struktur manajemen proyek dengan kelas Project sebagai entitas utama dan subkelas Task yang mencakup tenggat waktu dan status.\n",
        "Penjelasan: Dalam contoh ini, kita memperluas manajemen proyek dengan tambahan atribut dan metode yang lebih kompleks."
      ],
      "metadata": {
        "id": "tw2Eq8wUhS9q"
      }
    },
    {
      "cell_type": "code",
      "source": [
        "class Project:\n",
        "    def __init__(self, name, start_date, end_date):\n",
        "        self.name = name\n",
        "        self.start_date = start_date\n",
        "        self.end_date = end_date\n",
        "        self.tasks = []\n",
        "\n",
        "    def add_task(self, task):\n",
        "        self.tasks.append(task)\n",
        "\n",
        "    def is_project_overdue(self):\n",
        "        return self.end_date < datetime.today()\n",
        "\n",
        "class Task:\n",
        "    def __init__(self, name, description, deadline):\n",
        "        self.name = name\n",
        "        self.description = description\n",
        "        self.deadline = deadline\n",
        "        self.status = \"In Progress\"\n",
        "\n",
        "    def mark_as_completed(self):\n",
        "        self.status = \"Completed\"\n",
        "\n",
        "from datetime import datetime\n",
        "\n",
        "# Contoh Penggunaan\n",
        "project1 = Project(\"Project X\", datetime(2023, 1, 1), datetime(2023, 12, 31))\n",
        "task1 = Task(\"Task 1\", \"Complete the analysis.\", datetime(2023, 4, 1))\n",
        "task2 = Task(\"Task 2\", \"Develop the prototype.\", datetime(2023, 8, 1))\n",
        "\n",
        "project1.add_task(task1)\n",
        "project1.add_task(task2)\n",
        "\n",
        "print(\"Proyek:\", project1.name)\n",
        "print(\"Daftar Tugas:\")\n",
        "for task in project1.tasks:\n",
        "    print(\"- Tugas:\", task.name)\n",
        "    print(\"  Status:\", task.status)\n",
        "print(\"Proyek Terlambat:\", project1.is_project_overdue())\n"
      ],
      "metadata": {
        "colab": {
          "base_uri": "https://localhost:8080/"
        },
        "id": "5EyIVyLqhSfq",
        "outputId": "7c88f701-7524-47f3-afc0-c98e2554fc83"
      },
      "execution_count": 4,
      "outputs": [
        {
          "output_type": "stream",
          "name": "stdout",
          "text": [
            "Proyek: Project X\n",
            "Daftar Tugas:\n",
            "- Tugas: Task 1\n",
            "  Status: In Progress\n",
            "- Tugas: Task 2\n",
            "  Status: In Progress\n",
            "Proyek Terlambat: True\n"
          ]
        }
      ]
    },
    {
      "cell_type": "markdown",
      "source": [
        "TaskBase, yang berisi atribut dan metode umum yang digunakan oleh kelas Task dan Project. Ini mengilustrasikan konsep pewarisan. Selain itu, Anda memiliki polimorfisme ketika memanggil metode mark_as_completed pada objek Task dan Project."
      ],
      "metadata": {
        "id": "L-1lSwIL-oFN"
      }
    },
    {
      "cell_type": "markdown",
      "source": [
        "# Advanced"
      ],
      "metadata": {
        "id": "Jn1LWdwQRV6u"
      }
    },
    {
      "cell_type": "markdown",
      "source": [
        "## contoh 1"
      ],
      "metadata": {
        "id": "JCU8OuesRYWm"
      }
    },
    {
      "cell_type": "markdown",
      "source": [
        "Otomatisasi Model Basis Data dengan Metakelas dan Hubungan Entitas yang Rumit\n",
        "\n",
        "Tujuan: Menggunakan metakelas untuk otomatisasi model basis data dengan tambahan hubungan entitas seperti pengguna (User), produk (Product), dan pembelian (Purchase).\n",
        "Penjelasan: Dalam contoh ini, kita memperluas model basis data dengan menambahkan hubungan dan atribut tambahan antara entitas."
      ],
      "metadata": {
        "id": "fn8hFR9_RahX"
      }
    },
    {
      "cell_type": "code",
      "source": [
        "class DatabaseModelMetaclass(type):\n",
        "    def __new__(cls, name, bases, attrs):\n",
        "        if name != 'BaseModel':\n",
        "            attrs['table_name'] = name.lower()\n",
        "        return super().__new__(cls, name, bases, attrs)\n",
        "\n",
        "class BaseModel(metaclass=DatabaseModelMetaclass):\n",
        "    def __init__(self, **kwargs):\n",
        "        for key, value in kwargs.items():\n",
        "            setattr(self, key, value)\n",
        "\n",
        "    def save(self):\n",
        "        # Simulasi penyimpanan data ke database\n",
        "        print(f\"Data {self} tersimpan di tabel {self.table_name}\")\n",
        "\n",
        "class User(BaseModel):\n",
        "    def __init__(self, username, email):\n",
        "        super().__init__(username=username, email=email)\n",
        "\n",
        "class Product(BaseModel):\n",
        "    def __init__(self, name, price):\n",
        "        super().__init__(name=name, price=price)\n",
        "\n",
        "class Purchase(BaseModel):\n",
        "    def __init__(self, user, product, quantity):\n",
        "        super().__init__(user=user, product=product, quantity=quantity)\n",
        "\n",
        "# Contoh Penggunaan\n",
        "user1 = User(\"alice\", \"alice@email.com\")\n",
        "product1 = Product(\"Product 1\", 100)\n",
        "purchase1 = Purchase(user1, product1, 3)\n",
        "\n",
        "user1.save()\n",
        "product1.save()\n",
        "purchase1.save()\n"
      ],
      "metadata": {
        "id": "8Y3ZQkATRX0p",
        "colab": {
          "base_uri": "https://localhost:8080/"
        },
        "outputId": "d05ddb31-0c2e-49ef-87f3-038cd7f572a8"
      },
      "execution_count": 5,
      "outputs": [
        {
          "output_type": "stream",
          "name": "stdout",
          "text": [
            "Data <__main__.User object at 0x7a72fc51fa10> tersimpan di tabel user\n",
            "Data <__main__.Product object at 0x7a72fc51fb10> tersimpan di tabel product\n",
            "Data <__main__.Purchase object at 0x7a72fc51fb90> tersimpan di tabel purchase\n"
          ]
        }
      ]
    },
    {
      "cell_type": "markdown",
      "source": [
        "## contoh 2"
      ],
      "metadata": {
        "id": "ETWN5L0sZtqU"
      }
    },
    {
      "cell_type": "markdown",
      "source": [
        "Manajemen Data Penjualan dengan Model Basis Data yang Melibatkan Riwayat\n",
        "\n",
        "Tujuan: Menggunakan model basis data untuk mengelola data penjualan yang mencakup riwayat pembelian oleh pengguna.\n",
        "Penjelasan: Dalam contoh ini, model basis data digunakan untuk melacak dan menampilkan riwayat pembelian oleh pengguna."
      ],
      "metadata": {
        "id": "wwJrJqdOhwXy"
      }
    },
    {
      "cell_type": "code",
      "source": [
        "from datetime import datetime\n",
        "\n",
        "class BaseModel:\n",
        "    data = []  # A list to simulate data storage\n",
        "\n",
        "    def __init__(self, **kwargs):\n",
        "        for key, value in kwargs.items():\n",
        "            setattr(self, key, value)\n",
        "\n",
        "    def save(self):\n",
        "        # Simulate saving data by appending it to the data list\n",
        "        self.__class__.data.append(self)\n",
        "\n",
        "    @classmethod\n",
        "    def filter(cls, **kwargs):\n",
        "        # Implement your data filtering logic here, for example:\n",
        "        filtered_data = []\n",
        "        for obj in cls.data:\n",
        "            matches_all = all(\n",
        "                hasattr(obj, key) and getattr(obj, key) == value for key, value in kwargs.items()\n",
        "            )\n",
        "            if matches_all:\n",
        "                filtered_data.append(obj)\n",
        "        return filtered_data\n",
        "\n",
        "class User(BaseModel):\n",
        "    def __init__(self, username, email):\n",
        "        super().__init__(username=username, email=email)\n",
        "\n",
        "class Product(BaseModel):\n",
        "    def __init__(self, name, price):\n",
        "        super().__init__(name=name, price=price)\n",
        "\n",
        "class Purchase(BaseModel):\n",
        "    def __init__(self, user, product, quantity, purchase_date):\n",
        "        super().__init__(user=user, product=product, quantity=quantity, purchase_date=purchase_date)\n",
        "\n",
        "# Contoh Penggunaan\n",
        "user1 = User(\"alice\", \"alice@email.com\")\n",
        "product1 = Product(\"Product 1\", 100)\n",
        "purchase1 = Purchase(user1, product1, 3, datetime(2023, 3, 15))\n",
        "purchase2 = Purchase(user1, product1, 2, datetime(2023, 4, 20))\n",
        "\n",
        "user1.save()\n",
        "product1.save()\n",
        "purchase1.save()\n",
        "purchase2.save()\n",
        "\n",
        "# Menampilkan Riwayat Pembelian\n",
        "print(f\"Riwayat Pembelian oleh {user1.username}:\")\n",
        "purchases_by_user1 = Purchase.filter(user=user1)\n",
        "for purchase in purchases_by_user1:\n",
        "    print(f\"- {purchase.product.name} ({purchase.quantity} pcs) pada {purchase.purchase_date}\")\n"
      ],
      "metadata": {
        "id": "5YsewVTPdpJR",
        "colab": {
          "base_uri": "https://localhost:8080/"
        },
        "outputId": "d838e233-940c-4b33-8575-a88c31630bc2"
      },
      "execution_count": 6,
      "outputs": [
        {
          "output_type": "stream",
          "name": "stdout",
          "text": [
            "Riwayat Pembelian oleh alice:\n",
            "- Product 1 (3 pcs) pada 2023-03-15 00:00:00\n",
            "- Product 1 (2 pcs) pada 2023-04-20 00:00:00\n"
          ]
        }
      ]
    },
    {
      "cell_type": "code",
      "source": [],
      "metadata": {
        "id": "9nLUS1BRZ4Gv"
      },
      "execution_count": 6,
      "outputs": []
    }
  ]
}